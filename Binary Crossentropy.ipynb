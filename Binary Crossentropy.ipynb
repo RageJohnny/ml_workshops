{
 "cells": [
  {
   "cell_type": "code",
   "execution_count": 36,
   "metadata": {},
   "outputs": [],
   "source": [
    "import numpy as np \n",
    "import pandas as pd\n",
    "import matplotlib.pyplot as plt\n",
    "import seaborn as sns\n",
    "from keras.preprocessing.text import Tokenizer\n",
    "from keras.preprocessing.sequence import pad_sequences\n",
    "from keras.models import Sequential\n",
    "from keras.layers import Dense, Embedding, LSTM, SpatialDropout1D\n",
    "from sklearn.model_selection import train_test_split\n",
    "from keras.utils.np_utils import to_categorical\n",
    "from keras.callbacks import EarlyStopping\n",
    "from keras.layers import Dropout\n",
    "import re\n",
    "from nltk.corpus import stopwords\n",
    "from nltk import word_tokenize\n",
    "STOPWORDS = set(stopwords.words('german'))\n",
    "\n"
   ]
  },
  {
   "cell_type": "code",
   "execution_count": 42,
   "metadata": {},
   "outputs": [],
   "source": [
    "df = pd.read_csv(\"data/rawdata2.csv\", encoding='latin-1')"
   ]
  },
  {
   "cell_type": "code",
   "execution_count": 44,
   "metadata": {
    "scrolled": true
   },
   "outputs": [
    {
     "data": {
      "text/html": [
       "<div>\n",
       "<style scoped>\n",
       "    .dataframe tbody tr th:only-of-type {\n",
       "        vertical-align: middle;\n",
       "    }\n",
       "\n",
       "    .dataframe tbody tr th {\n",
       "        vertical-align: top;\n",
       "    }\n",
       "\n",
       "    .dataframe thead th {\n",
       "        text-align: right;\n",
       "    }\n",
       "</style>\n",
       "<table border=\"1\" class=\"dataframe\">\n",
       "  <thead>\n",
       "    <tr style=\"text-align: right;\">\n",
       "      <th></th>\n",
       "      <th>Identifier</th>\n",
       "      <th>Item_Name</th>\n",
       "      <th>Category</th>\n",
       "    </tr>\n",
       "  </thead>\n",
       "  <tbody>\n",
       "    <tr>\n",
       "      <th>0</th>\n",
       "      <td>B019YGSAPW</td>\n",
       "      <td>Ravensburger Spiele 23409 - Schwarzer Peter Mitbringspiel</td>\n",
       "      <td>0300 Games &amp; Puzzles</td>\n",
       "    </tr>\n",
       "    <tr>\n",
       "      <th>1</th>\n",
       "      <td>B000QGRCN6</td>\n",
       "      <td>Henrys A01002-S01 - Yo-Yo Ersatzschnüre 6 Stück, weiß</td>\n",
       "      <td>0900 Outdoor &amp; Sports Toys</td>\n",
       "    </tr>\n",
       "    <tr>\n",
       "      <th>2</th>\n",
       "      <td>B00KB45ULE</td>\n",
       "      <td>London Teddy Bears 4X-CLQL-QFJN Sorry, es TUT Mir leid, Braun</td>\n",
       "      <td>0700 Plush</td>\n",
       "    </tr>\n",
       "    <tr>\n",
       "      <th>3</th>\n",
       "      <td>B07NDXZ8ZH</td>\n",
       "      <td>KiddyMoon 90X30cm/300 Bälle ? 7Cm Bällebad Baby Spielbad Mit Bunten Bällen Rund Made In EU, Hellgrau:Perle-Blau-Baby Blau-Transparent-Silbern</td>\n",
       "      <td>0900 Outdoor &amp; Sports Toys</td>\n",
       "    </tr>\n",
       "    <tr>\n",
       "      <th>4</th>\n",
       "      <td>B079QGYCS7</td>\n",
       "      <td>Eichhorn 100003408 - Musik Set enthält Trommel, Triangel, Maraca-Ei, aus Eichenholz</td>\n",
       "      <td>1300 All Other</td>\n",
       "    </tr>\n",
       "  </tbody>\n",
       "</table>\n",
       "</div>"
      ],
      "text/plain": [
       "   Identifier  \\\n",
       "0  B019YGSAPW   \n",
       "1  B000QGRCN6   \n",
       "2  B00KB45ULE   \n",
       "3  B07NDXZ8ZH   \n",
       "4  B079QGYCS7   \n",
       "\n",
       "                                                                                                                                       Item_Name  \\\n",
       "0                                                                                      Ravensburger Spiele 23409 - Schwarzer Peter Mitbringspiel   \n",
       "1                                                                                          Henrys A01002-S01 - Yo-Yo Ersatzschnüre 6 Stück, weiß   \n",
       "2                                                                                  London Teddy Bears 4X-CLQL-QFJN Sorry, es TUT Mir leid, Braun   \n",
       "3  KiddyMoon 90X30cm/300 Bälle ? 7Cm Bällebad Baby Spielbad Mit Bunten Bällen Rund Made In EU, Hellgrau:Perle-Blau-Baby Blau-Transparent-Silbern   \n",
       "4                                                            Eichhorn 100003408 - Musik Set enthält Trommel, Triangel, Maraca-Ei, aus Eichenholz   \n",
       "\n",
       "                     Category  \n",
       "0        0300 Games & Puzzles  \n",
       "1  0900 Outdoor & Sports Toys  \n",
       "2                  0700 Plush  \n",
       "3  0900 Outdoor & Sports Toys  \n",
       "4              1300 All Other  "
      ]
     },
     "execution_count": 44,
     "metadata": {},
     "output_type": "execute_result"
    }
   ],
   "source": [
    "df.head()"
   ]
  },
  {
   "cell_type": "code",
   "execution_count": 46,
   "metadata": {},
   "outputs": [
    {
     "data": {
      "text/plain": [
       "Folienballon im Zahlen-Design, gro&szlig;, 86,4&nbsp;cm                                                    21\n",
       "Elfique Tipi INDIANERZELT DOPPELT Gepolsterter Decke und Drei Kissen                                       12\n",
       "Papier Partytüten                                                                                          10\n",
       "Elfique New Tipi INDIANERZELT SPIELZELT DOPPELT Gepolsterter Decke (Zelt mit Decke)                        10\n",
       "Widmann - Kinderkostüm Polizistin                                                                           7\n",
       "                                                                                                           ..\n",
       "Bestway Crocodile Rider 1.68 m x89 cm, Schwimmtier                                                          1\n",
       "FALLER 120471 - Auf- und Abfahrt komplett, Radius 2                                                         1\n",
       "Simba 6315875007 - Disney Winnie The Puuh Plüsch Tigger 35 cm                                               1\n",
       "Dickie Toys 203341019 Stunt Bike, Tricks, Finger Fahrrad, Spielzeugfahrrad, 3-Sortiert, rot, grün, blau     1\n",
       "Philos 8241 - Carromsteine, Turnier, Zubehör                                                                1\n",
       "Name: Item_Name, Length: 39131, dtype: int64"
      ]
     },
     "execution_count": 46,
     "metadata": {},
     "output_type": "execute_result"
    }
   ],
   "source": [
    "df.Item_Name.value_counts()"
   ]
  },
  {
   "cell_type": "code",
   "execution_count": 49,
   "metadata": {},
   "outputs": [],
   "source": [
    "df = df.reset_index(drop=True)\n",
    "REPLACE_BY_SPACE_RE = re.compile('[/(){}\\[\\]\\|@,;]')\n",
    "BAD_SYMBOLS_RE = re.compile('[^0-9a-z #+_]')\n",
    "STOPWORDS = set(stopwords.words('german'))\n",
    "\n",
    "def clean_text(text):\n",
    "    \"\"\"\n",
    "        text: a string\n",
    "        \n",
    "        return: modified initial string\n",
    "    \"\"\"\n",
    "    text = text.lower()\n",
    "    text = REPLACE_BY_SPACE_RE.sub(' ', text) \n",
    "    text = BAD_SYMBOLS_RE.sub('', text) \n",
    "    text = text.replace('x', '')\n",
    "#    text = re.sub(r'\\W+', '', text)\n",
    "    text = ' '.join(word for word in text.split() if word not in STOPWORDS)\n",
    "    return text\n",
    "df['Item_Name'] = df['Item_Name'].apply(clean_text)"
   ]
  },
  {
   "cell_type": "code",
   "execution_count": 50,
   "metadata": {},
   "outputs": [
    {
     "data": {
      "text/html": [
       "<div>\n",
       "<style scoped>\n",
       "    .dataframe tbody tr th:only-of-type {\n",
       "        vertical-align: middle;\n",
       "    }\n",
       "\n",
       "    .dataframe tbody tr th {\n",
       "        vertical-align: top;\n",
       "    }\n",
       "\n",
       "    .dataframe thead th {\n",
       "        text-align: right;\n",
       "    }\n",
       "</style>\n",
       "<table border=\"1\" class=\"dataframe\">\n",
       "  <thead>\n",
       "    <tr style=\"text-align: right;\">\n",
       "      <th></th>\n",
       "      <th>Identifier</th>\n",
       "      <th>Item_Name</th>\n",
       "      <th>Category</th>\n",
       "    </tr>\n",
       "  </thead>\n",
       "  <tbody>\n",
       "    <tr>\n",
       "      <th>0</th>\n",
       "      <td>B019YGSAPW</td>\n",
       "      <td>ravensburger spiele 23409 schwarzer peter mitbringspiel</td>\n",
       "      <td>0300 Games &amp; Puzzles</td>\n",
       "    </tr>\n",
       "    <tr>\n",
       "      <th>1</th>\n",
       "      <td>B000QGRCN6</td>\n",
       "      <td>henrys a01002s01 yoyo ersatzschnre 6 stck wei</td>\n",
       "      <td>0900 Outdoor &amp; Sports Toys</td>\n",
       "    </tr>\n",
       "    <tr>\n",
       "      <th>2</th>\n",
       "      <td>B00KB45ULE</td>\n",
       "      <td>london teddy bears 4clqlqfjn sorry tut leid braun</td>\n",
       "      <td>0700 Plush</td>\n",
       "    </tr>\n",
       "    <tr>\n",
       "      <th>3</th>\n",
       "      <td>B07NDXZ8ZH</td>\n",
       "      <td>kiddymoon 9030cm 300 blle 7cm bllebad baby spielbad bunten bllen rund made eu hellgrauperleblaubaby blautransparentsilbern</td>\n",
       "      <td>0900 Outdoor &amp; Sports Toys</td>\n",
       "    </tr>\n",
       "    <tr>\n",
       "      <th>4</th>\n",
       "      <td>B079QGYCS7</td>\n",
       "      <td>eichhorn 100003408 musik set enthlt trommel triangel maracaei eichenholz</td>\n",
       "      <td>1300 All Other</td>\n",
       "    </tr>\n",
       "    <tr>\n",
       "      <th>...</th>\n",
       "      <td>...</td>\n",
       "      <td>...</td>\n",
       "      <td>...</td>\n",
       "    </tr>\n",
       "    <tr>\n",
       "      <th>39495</th>\n",
       "      <td>B07SBHBR4G</td>\n",
       "      <td>animagic einhorn destiny elektronisches haustier</td>\n",
       "      <td>0700 Plush</td>\n",
       "    </tr>\n",
       "    <tr>\n",
       "      <th>39496</th>\n",
       "      <td>B077MYDXF1</td>\n",
       "      <td>heye 29842 oktoberfest triangular 1500 teile christoph schne green</td>\n",
       "      <td>0300 Games &amp; Puzzles</td>\n",
       "    </tr>\n",
       "    <tr>\n",
       "      <th>39497</th>\n",
       "      <td>B07K8SKX73</td>\n",
       "      <td>monsterjam monsterdirtstarterset 226g monsterdirt eklusivem monster jam truck mastab 164 sortierung verschiedenen designs</td>\n",
       "      <td>0400 Vehicles</td>\n",
       "    </tr>\n",
       "    <tr>\n",
       "      <th>39498</th>\n",
       "      <td>B019YY2E2Y</td>\n",
       "      <td>kinetic sand 6029058 sand bo set blau</td>\n",
       "      <td>0200 Arts &amp; Crafts</td>\n",
       "    </tr>\n",
       "    <tr>\n",
       "      <th>39499</th>\n",
       "      <td>B07PPJ7YVM</td>\n",
       "      <td>ravensburger 14084 cape town puzzle</td>\n",
       "      <td>0300 Games &amp; Puzzles</td>\n",
       "    </tr>\n",
       "  </tbody>\n",
       "</table>\n",
       "<p>39500 rows × 3 columns</p>\n",
       "</div>"
      ],
      "text/plain": [
       "       Identifier  \\\n",
       "0      B019YGSAPW   \n",
       "1      B000QGRCN6   \n",
       "2      B00KB45ULE   \n",
       "3      B07NDXZ8ZH   \n",
       "4      B079QGYCS7   \n",
       "...           ...   \n",
       "39495  B07SBHBR4G   \n",
       "39496  B077MYDXF1   \n",
       "39497  B07K8SKX73   \n",
       "39498  B019YY2E2Y   \n",
       "39499  B07PPJ7YVM   \n",
       "\n",
       "                                                                                                                        Item_Name  \\\n",
       "0                                                                         ravensburger spiele 23409 schwarzer peter mitbringspiel   \n",
       "1                                                                                   henrys a01002s01 yoyo ersatzschnre 6 stck wei   \n",
       "2                                                                               london teddy bears 4clqlqfjn sorry tut leid braun   \n",
       "3      kiddymoon 9030cm 300 blle 7cm bllebad baby spielbad bunten bllen rund made eu hellgrauperleblaubaby blautransparentsilbern   \n",
       "4                                                        eichhorn 100003408 musik set enthlt trommel triangel maracaei eichenholz   \n",
       "...                                                                                                                           ...   \n",
       "39495                                                                            animagic einhorn destiny elektronisches haustier   \n",
       "39496                                                          heye 29842 oktoberfest triangular 1500 teile christoph schne green   \n",
       "39497   monsterjam monsterdirtstarterset 226g monsterdirt eklusivem monster jam truck mastab 164 sortierung verschiedenen designs   \n",
       "39498                                                                                       kinetic sand 6029058 sand bo set blau   \n",
       "39499                                                                                         ravensburger 14084 cape town puzzle   \n",
       "\n",
       "                         Category  \n",
       "0            0300 Games & Puzzles  \n",
       "1      0900 Outdoor & Sports Toys  \n",
       "2                      0700 Plush  \n",
       "3      0900 Outdoor & Sports Toys  \n",
       "4                  1300 All Other  \n",
       "...                           ...  \n",
       "39495                  0700 Plush  \n",
       "39496        0300 Games & Puzzles  \n",
       "39497               0400 Vehicles  \n",
       "39498          0200 Arts & Crafts  \n",
       "39499        0300 Games & Puzzles  \n",
       "\n",
       "[39500 rows x 3 columns]"
      ]
     },
     "execution_count": 50,
     "metadata": {},
     "output_type": "execute_result"
    }
   ],
   "source": [
    "df"
   ]
  },
  {
   "cell_type": "code",
   "execution_count": 52,
   "metadata": {},
   "outputs": [
    {
     "name": "stdout",
     "output_type": "stream",
     "text": [
      "Found 69748 unique tokens.\n"
     ]
    }
   ],
   "source": [
    "\n",
    "MAX_NB_WORDS = 50000\n",
    "# Max number of words in each complaint.\n",
    "MAX_SEQUENCE_LENGTH = 250\n",
    "# This is fixed.\n",
    "EMBEDDING_DIM = 100\n",
    "\n",
    "tokenizer = Tokenizer(num_words=MAX_NB_WORDS, filters='!\"#$%&()*+,-./:;<=>?@[\\]^_`{|}~', lower=True)\n",
    "tokenizer.fit_on_texts(df['Item_Name'].values)\n",
    "word_index = tokenizer.word_index\n",
    "print('Found %s unique tokens.' % len(word_index))"
   ]
  },
  {
   "cell_type": "code",
   "execution_count": 53,
   "metadata": {},
   "outputs": [
    {
     "name": "stdout",
     "output_type": "stream",
     "text": [
      "Shape of data tensor: (39500, 250)\n"
     ]
    }
   ],
   "source": [
    "X = tokenizer.texts_to_sequences(df['Item_Name'].values)\n",
    "X = pad_sequences(X, maxlen=MAX_SEQUENCE_LENGTH)\n",
    "print('Shape of data tensor:', X.shape)"
   ]
  },
  {
   "cell_type": "code",
   "execution_count": 54,
   "metadata": {},
   "outputs": [
    {
     "name": "stdout",
     "output_type": "stream",
     "text": [
      "Shape of label tensor: (39500, 17)\n"
     ]
    }
   ],
   "source": [
    "Y = pd.get_dummies(df['Category']).values\n",
    "print('Shape of label tensor:', Y.shape)"
   ]
  },
  {
   "cell_type": "code",
   "execution_count": 55,
   "metadata": {},
   "outputs": [
    {
     "name": "stdout",
     "output_type": "stream",
     "text": [
      "(35550, 250) (35550, 17)\n",
      "(3950, 250) (3950, 17)\n"
     ]
    }
   ],
   "source": [
    "X_train, X_test, Y_train, Y_test = train_test_split(X,Y, test_size = 0.10, random_state = 42)\n",
    "print(X_train.shape,Y_train.shape)\n",
    "print(X_test.shape,Y_test.shape)"
   ]
  },
  {
   "cell_type": "code",
   "execution_count": 58,
   "metadata": {
    "scrolled": true
   },
   "outputs": [
    {
     "name": "stdout",
     "output_type": "stream",
     "text": [
      "Model: \"sequential_2\"\n",
      "_________________________________________________________________\n",
      "Layer (type)                 Output Shape              Param #   \n",
      "=================================================================\n",
      "embedding_2 (Embedding)      (None, 250, 100)          5000000   \n",
      "_________________________________________________________________\n",
      "spatial_dropout1d_2 (Spatial (None, 250, 100)          0         \n",
      "_________________________________________________________________\n",
      "lstm_2 (LSTM)                (None, 100)               80400     \n",
      "_________________________________________________________________\n",
      "dense_2 (Dense)              (None, 17)                1717      \n",
      "=================================================================\n",
      "Total params: 5,082,117\n",
      "Trainable params: 5,082,117\n",
      "Non-trainable params: 0\n",
      "_________________________________________________________________\n",
      "None\n"
     ]
    }
   ],
   "source": [
    "model = Sequential()\n",
    "model.add(Embedding(MAX_NB_WORDS, EMBEDDING_DIM, input_length=X.shape[1]))\n",
    "model.add(SpatialDropout1D(0.2))\n",
    "model.add(LSTM(100, dropout=0.2, recurrent_dropout=0.2))\n",
    "model.add(Dense(17, activation='softmax'))\n",
    "model.compile(loss='categorical_crossentropy', optimizer='adam', metrics=['accuracy'])\n",
    "print(model.summary())"
   ]
  },
  {
   "cell_type": "code",
   "execution_count": 59,
   "metadata": {
    "scrolled": true
   },
   "outputs": [
    {
     "name": "stderr",
     "output_type": "stream",
     "text": [
      "C:\\Users\\JohnnyRage\\miniconda3\\envs\\tensorflow\\lib\\site-packages\\tensorflow_core\\python\\framework\\indexed_slices.py:424: UserWarning: Converting sparse IndexedSlices to a dense Tensor of unknown shape. This may consume a large amount of memory.\n",
      "  \"Converting sparse IndexedSlices to a dense Tensor of unknown shape. \"\n"
     ]
    },
    {
     "name": "stdout",
     "output_type": "stream",
     "text": [
      "Train on 31995 samples, validate on 3555 samples\n",
      "Epoch 1/5\n",
      "31995/31995 [==============================] - 534s 17ms/step - loss: 1.5088 - accuracy: 0.5234 - val_loss: 0.8168 - val_accuracy: 0.7665\n",
      "Epoch 2/5\n",
      "31995/31995 [==============================] - 553s 17ms/step - loss: 0.6094 - accuracy: 0.8193 - val_loss: 0.6802 - val_accuracy: 0.8023\n",
      "Epoch 3/5\n",
      "31995/31995 [==============================] - 557s 17ms/step - loss: 0.3497 - accuracy: 0.8973 - val_loss: 0.6875 - val_accuracy: 0.8070\n",
      "Epoch 4/5\n",
      "31995/31995 [==============================] - 558s 17ms/step - loss: 0.2174 - accuracy: 0.9380 - val_loss: 0.7101 - val_accuracy: 0.8037\n",
      "Epoch 5/5\n",
      "31995/31995 [==============================] - 563s 18ms/step - loss: 0.1463 - accuracy: 0.9568 - val_loss: 0.8225 - val_accuracy: 0.7910\n"
     ]
    }
   ],
   "source": [
    "epochs = 5\n",
    "batch_size = 64\n",
    "\n",
    "history = model.fit(X_train, Y_train, epochs=epochs, batch_size=batch_size,validation_split=0.1,callbacks=[EarlyStopping(monitor='val_loss', patience=3, min_delta=0.0001)])"
   ]
  },
  {
   "cell_type": "code",
   "execution_count": 60,
   "metadata": {
    "scrolled": false
   },
   "outputs": [
    {
     "name": "stdout",
     "output_type": "stream",
     "text": [
      "3950/3950 [==============================] - 7s 2ms/step\n",
      "Test set\n",
      "  Loss: 0.911\n",
      "  Accuracy: 0.771\n"
     ]
    }
   ],
   "source": [
    "accr = model.evaluate(X_test,Y_test)\n",
    "print('Test set\\n  Loss: {:0.3f}\\n  Accuracy: {:0.3f}'.format(accr[0],accr[1]))"
   ]
  },
  {
   "cell_type": "code",
   "execution_count": 272,
   "metadata": {},
   "outputs": [
    {
     "name": "stdout",
     "output_type": "stream",
     "text": [
      "['Audi Jamara RMS silber', 'Ravensburger Machine Learning Puzzle Lukas Huber Edition']\n"
     ]
    }
   ],
   "source": [
    "items = []\n",
    "items.append(\"Audi Jamara RMS silber\")\n",
    "items.append(\"Ravensburger Machine Learning Puzzle Lukas Huber Edition\")\n",
    "print(items)\n"
   ]
  },
  {
   "cell_type": "code",
   "execution_count": 277,
   "metadata": {},
   "outputs": [
    {
     "name": "stdout",
     "output_type": "stream",
     "text": [
      "[[   0    0    0 ...    0    0  431]\n",
      " [   0    0    0 ...    0    0 1988]\n",
      " [   0    0    0 ...    0    0 1413]\n",
      " ...\n",
      " [   0    0    0 ...    0    0  667]\n",
      " [   0    0    0 ...    0    0  474]\n",
      " [   0    0    0 ...    0    0  361]]\n",
      "[[   0    0    0 ...    0    0  361]\n",
      " [   0    0    0 ...    0    0  431]\n",
      " [   0    0    0 ...    0    0 1018]\n",
      " ...\n",
      " [   0    0    0 ...    0    0  415]\n",
      " [   0    0    0 ...    0    0 1971]\n",
      " [   0    0    0 ...    0    0  585]]\n"
     ]
    }
   ],
   "source": [
    "labels =  ['0100', '0200', '0201', '0202', '0206', '0300', '0400', '0402', '0600', '0625', '0700', '0800', '0900', '1300', '1800', '1802', '1900']\n",
    "for item in items: \n",
    "    seq = tokenizer.texts_to_sequences(item)\n",
    "    padded = pad_sequences(seq, maxlen=MAX_SEQUENCE_LENGTH)\n",
    "    pri\n",
    "    #pred = model.predict(padded)\n",
    "    #print(pred, labels[np.argmax(pred)])\n",
    "    \n",
    "    "
   ]
  },
  {
   "cell_type": "code",
   "execution_count": 241,
   "metadata": {},
   "outputs": [
    {
     "name": "stdout",
     "output_type": "stream",
     "text": [
      "[[2.4584613e-03 1.2535288e-03 1.6505759e-04 1.5129631e-04 4.2167789e-04\n",
      "  3.2281402e-02 5.4336196e-01 1.1335850e-04 2.4810652e-03 3.1009337e-04\n",
      "  3.3286505e-04 1.6271465e-02 8.0786094e-02 3.1230792e-01 5.8438643e-03\n",
      "  2.0422442e-04 1.2556626e-03]] 0400\n"
     ]
    }
   ],
   "source": [
    "new_item = [\"Jamara Audi RMS Silber\"]\n",
    "seq = tokenizer.texts_to_sequences(new_item)\n",
    "padded = pad_sequences(seq, maxlen=MAX_SEQUENCE_LENGTH)\n",
    "pred = model.predict(padded)\n",
    "labels =  ['0100', '0200', '0201', '0202', '0206', '0300', '0400', '0402', '0600', '0625', '0700', '0800', '0900', '1300', '1800', '1802', '1900']\n",
    "print(pred, labels[np.argmax(pred)])"
   ]
  }
 ],
 "metadata": {
  "kernelspec": {
   "display_name": "Python 3.7 (tensorflow)",
   "language": "python",
   "name": "tensorflow"
  },
  "language_info": {
   "codemirror_mode": {
    "name": "ipython",
    "version": 3
   },
   "file_extension": ".py",
   "mimetype": "text/x-python",
   "name": "python",
   "nbconvert_exporter": "python",
   "pygments_lexer": "ipython3",
   "version": "3.7.7"
  }
 },
 "nbformat": 4,
 "nbformat_minor": 4
}
