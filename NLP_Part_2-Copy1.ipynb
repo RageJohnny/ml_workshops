{
 "cells": [
  {
   "cell_type": "markdown",
   "metadata": {},
   "source": [
    "# Natural Language Processing for Amazon Toys Categorization"
   ]
  },
  {
   "cell_type": "markdown",
   "metadata": {},
   "source": [
    "## Author: \n",
    "Michael Weiherer </p>\n",
    "\n",
    "Johannes Georg Larcher </p>\n",
    "\n",
    "***Studies:*** Machine Learning ILV </p>\n",
    "\n",
    "***Lector:*** Lukas Huber, MSc </p>\n",
    "\n",
    "***University:*** Fachhochschule Kufstein Tirol </p>\n",
    "\n",
    "\n"
   ]
  },
  {
   "cell_type": "markdown",
   "metadata": {},
   "source": [
    "# Agenda:\n",
    "\n",
    "1. __Initial Situation / Status Quo__ <a href='#1.Section'>Link to Section</a>\n",
    "2. __Project Goal__ <a href='#2.Section'>Link to Section</a>\n",
    "3. __Project Setup__ <a href='#3.Section'>Link to Section</a>\n",
    "4. __Project Analysis__ <a href='#4.Section'>Link to Section</a>\n",
    "5. __Preprocess Text__ <a href='#5.Section'>Link to Section</a>\n",
    "6. __Project Goal__ <a href='#6.Section'>Link to Section</a>\n",
    "7. __Project Setup__ <a href='#7.Section'>Link to Section</a>\n",
    "8. __Project Analysis__ <a href='#8.Section'>Link to Section</a>"
   ]
  },
  {
   "cell_type": "markdown",
   "metadata": {},
   "source": [
    "# Comment Lucas:\n",
    "#### Abgabe 2:  \t\n",
    "\n",
    "sehr interessante Umsetzung von NLP - spannend was ihr in eurem WS3 abgeben werdet. \\\n",
    "Hoffe es gibt noch mehr Gelegenheit die Klassifiaktion von Amazon genauer anzusehen und Amazon erlaubt solche Vorgänge.\n",
    "\n",
    "#### Angabe 3:\n",
    "Zeigt die Anwendbarkeit und bringt euer “Projekt” zum Abschluss. Beantwortet ein “Big-Picture” - was war/ist das Problem und die Ausgangssituation? Was konntet ihr verbessern? Was sind weitere Möglichkeiten für zukünftige Entwicklungen? Was lief gut, was weniger?\n",
    "\n",
    "- Anwendung von einem der Vorhergehenden Themen (DL, CNN, GAN, NLP, Time-Series, OCR,…) - Bindet das Thema ein.\n",
    "- Wovon kann euer Projekt profitieren?\n",
    "- Sind Limitationen zu erwarten (Hardware, Datenqualität, …) bzw. aufgetreten?\n"
   ]
  },
  {
   "cell_type": "markdown",
   "metadata": {},
   "source": [
    "## 1.) Initial Situation / Status Quo\n",
    "<a id='1.Section'></a>\n",
    "Currently the categorization of products on Amazon is defined by the input of the manufacturers through their external portal (VendorCentral). Therefore manufacturers choose the category/subcategory in which their products belong. \\\n",
    "Round about 20% - 30% of the selection is currently wrongly categorized which has following negative effects: \\\n",
    "- Bad customer experience on the website due to wrong search results when filtering for categories\n",
    "- Wrong analysis when looking into category data (internal reviews as well as external reports for manufacturers)\n",
    "- Impacted ordering as Amazon systems has different inbound strategies per category (very important right now during Covid-19 prioritization)"
   ]
  },
  {
   "cell_type": "markdown",
   "metadata": {},
   "source": [
    "## 2.) Project Goal\n",
    "<a id='2.Section'></a>\n",
    "Our goal is to identify if a toys product belongs to the category games & puzzles by its item-name. This is crucial for Amazon currently as this is one of the most important categories during COVID-19 as customers started to puzzle/play more during the lockdown. Therefore we are going to use the Natural Language Processing feature and different neural nets for optimization and testing. "
   ]
  },
  {
   "cell_type": "markdown",
   "metadata": {},
   "source": [
    "## 3.) Project Setup\n",
    "<a id='3.Section'></a>\n",
    "First of all, we have loaded the appropiate packages for our project and the pre processed data as csv. "
   ]
  },
  {
   "cell_type": "code",
   "execution_count": 1,
   "metadata": {},
   "outputs": [
    {
     "name": "stderr",
     "output_type": "stream",
     "text": [
      "Using TensorFlow backend.\n"
     ]
    }
   ],
   "source": [
    "import pandas as pd\n",
    "import numpy as np\n",
    "import re\n",
    "import nltk\n",
    "from nltk.corpus import stopwords\n",
    "import matplotlib.pyplot as plt\n",
    "\n",
    "from numpy import array\n",
    "from keras.preprocessing.text import one_hot\n",
    "from keras.preprocessing.sequence import pad_sequences\n",
    "from keras.models import Sequential\n",
    "from keras.layers.core import Activation, Dropout, Dense\n",
    "from keras.layers import Flatten\n",
    "from keras.layers import GlobalMaxPooling1D\n",
    "from keras.layers.embeddings import Embedding\n",
    "from sklearn.model_selection import train_test_split\n",
    "from keras.preprocessing.text import Tokenizer\n",
    "import seaborn as sns"
   ]
  },
  {
   "cell_type": "code",
   "execution_count": 2,
   "metadata": {},
   "outputs": [],
   "source": [
    "data = pd.read_csv(\"data/rawdata2.csv\", encoding='latin-1')"
   ]
  },
  {
   "cell_type": "markdown",
   "metadata": {},
   "source": [
    "## 4.) Project Analysis \n",
    "<a id='4.Section'></a>\n",
    "Next step was to get a look at the pre processed data (check for missing values, check for distributions) "
   ]
  },
  {
   "cell_type": "code",
   "execution_count": 3,
   "metadata": {},
   "outputs": [
    {
     "data": {
      "text/html": [
       "<div>\n",
       "<style scoped>\n",
       "    .dataframe tbody tr th:only-of-type {\n",
       "        vertical-align: middle;\n",
       "    }\n",
       "\n",
       "    .dataframe tbody tr th {\n",
       "        vertical-align: top;\n",
       "    }\n",
       "\n",
       "    .dataframe thead th {\n",
       "        text-align: right;\n",
       "    }\n",
       "</style>\n",
       "<table border=\"1\" class=\"dataframe\">\n",
       "  <thead>\n",
       "    <tr style=\"text-align: right;\">\n",
       "      <th></th>\n",
       "      <th>Identifier</th>\n",
       "      <th>Item_Name</th>\n",
       "      <th>Category</th>\n",
       "    </tr>\n",
       "  </thead>\n",
       "  <tbody>\n",
       "    <tr>\n",
       "      <th>0</th>\n",
       "      <td>B019YGSAPW</td>\n",
       "      <td>Ravensburger Spiele 23409 - Schwarzer Peter Mi...</td>\n",
       "      <td>0300 Games &amp; Puzzles</td>\n",
       "    </tr>\n",
       "    <tr>\n",
       "      <th>1</th>\n",
       "      <td>B000QGRCN6</td>\n",
       "      <td>Henrys A01002-S01 - Yo-Yo Ersatzschnüre 6 Stüc...</td>\n",
       "      <td>0900 Outdoor &amp; Sports Toys</td>\n",
       "    </tr>\n",
       "    <tr>\n",
       "      <th>2</th>\n",
       "      <td>B00KB45ULE</td>\n",
       "      <td>London Teddy Bears 4X-CLQL-QFJN Sorry, es TUT ...</td>\n",
       "      <td>0700 Plush</td>\n",
       "    </tr>\n",
       "    <tr>\n",
       "      <th>3</th>\n",
       "      <td>B07NDXZ8ZH</td>\n",
       "      <td>KiddyMoon 90X30cm/300 Bälle ? 7Cm Bällebad Bab...</td>\n",
       "      <td>0900 Outdoor &amp; Sports Toys</td>\n",
       "    </tr>\n",
       "    <tr>\n",
       "      <th>4</th>\n",
       "      <td>B079QGYCS7</td>\n",
       "      <td>Eichhorn 100003408 - Musik Set enthält Trommel...</td>\n",
       "      <td>1300 All Other</td>\n",
       "    </tr>\n",
       "  </tbody>\n",
       "</table>\n",
       "</div>"
      ],
      "text/plain": [
       "   Identifier                                          Item_Name  \\\n",
       "0  B019YGSAPW  Ravensburger Spiele 23409 - Schwarzer Peter Mi...   \n",
       "1  B000QGRCN6  Henrys A01002-S01 - Yo-Yo Ersatzschnüre 6 Stüc...   \n",
       "2  B00KB45ULE  London Teddy Bears 4X-CLQL-QFJN Sorry, es TUT ...   \n",
       "3  B07NDXZ8ZH  KiddyMoon 90X30cm/300 Bälle ? 7Cm Bällebad Bab...   \n",
       "4  B079QGYCS7  Eichhorn 100003408 - Musik Set enthält Trommel...   \n",
       "\n",
       "                     Category  \n",
       "0        0300 Games & Puzzles  \n",
       "1  0900 Outdoor & Sports Toys  \n",
       "2                  0700 Plush  \n",
       "3  0900 Outdoor & Sports Toys  \n",
       "4              1300 All Other  "
      ]
     },
     "execution_count": 3,
     "metadata": {},
     "output_type": "execute_result"
    }
   ],
   "source": [
    "data.head()"
   ]
  },
  {
   "cell_type": "code",
   "execution_count": 4,
   "metadata": {},
   "outputs": [
    {
     "name": "stdout",
     "output_type": "stream",
     "text": [
      "<class 'pandas.core.frame.DataFrame'>\n",
      "RangeIndex: 39500 entries, 0 to 39499\n",
      "Data columns (total 3 columns):\n",
      " #   Column      Non-Null Count  Dtype \n",
      "---  ------      --------------  ----- \n",
      " 0   Identifier  39500 non-null  object\n",
      " 1   Item_Name   39500 non-null  object\n",
      " 2   Category    39500 non-null  object\n",
      "dtypes: object(3)\n",
      "memory usage: 925.9+ KB\n"
     ]
    }
   ],
   "source": [
    "data.info()"
   ]
  },
  {
   "cell_type": "code",
   "execution_count": 5,
   "metadata": {},
   "outputs": [
    {
     "data": {
      "text/plain": [
       "Identifier    False\n",
       "Item_Name     False\n",
       "Category      False\n",
       "dtype: bool"
      ]
     },
     "execution_count": 5,
     "metadata": {},
     "output_type": "execute_result"
    }
   ],
   "source": [
    "data.isna().any()"
   ]
  },
  {
   "cell_type": "code",
   "execution_count": 6,
   "metadata": {},
   "outputs": [
    {
     "data": {
      "text/plain": [
       "'0900 Outdoor & Sports Toys'"
      ]
     },
     "execution_count": 6,
     "metadata": {},
     "output_type": "execute_result"
    }
   ],
   "source": [
    "data[\"Category\"][3]"
   ]
  },
  {
   "cell_type": "code",
   "execution_count": 7,
   "metadata": {},
   "outputs": [
    {
     "data": {
      "text/plain": [
       "<matplotlib.axes._subplots.AxesSubplot at 0x2564876c2c8>"
      ]
     },
     "execution_count": 7,
     "metadata": {},
     "output_type": "execute_result"
    },
    {
     "data": {
      "image/png": "[encoded data removed]",
      "text/plain": [
       "<Figure size 432x288 with 1 Axes>"
      ]
     },
     "metadata": {
      "needs_background": "light"
     },
     "output_type": "display_data"
    }
   ],
   "source": [
    "sns.countplot(x='Category', data=data)"
   ]
  },
  {
   "cell_type": "markdown",
   "metadata": {},
   "source": [
    "## 5.) Preprocess Text\n",
    "<a id='5.Section'></a>\n",
    "In this next step, we deleted values (html-tags, punctuations and numbers etc.) We deleted these values to ensure a good performance for the neural nets. "
   ]
  },
  {
   "cell_type": "code",
   "execution_count": 8,
   "metadata": {},
   "outputs": [
    {
     "name": "stderr",
     "output_type": "stream",
     "text": [
      "[nltk_data] Downloading package stopwords to\n",
      "[nltk_data]     C:\\Users\\JohnnyRage\\AppData\\Roaming\\nltk_data...\n",
      "[nltk_data]   Package stopwords is already up-to-date!\n"
     ]
    },
    {
     "data": {
      "text/plain": [
       "True"
      ]
     },
     "execution_count": 8,
     "metadata": {},
     "output_type": "execute_result"
    }
   ],
   "source": [
    "nltk.download('stopwords')"
   ]
  },
  {
   "cell_type": "code",
   "execution_count": 9,
   "metadata": {},
   "outputs": [],
   "source": [
    "def freq_words(x, terms = 30):\n",
    "  all_words = ' '.join([text for text in x])\n",
    "  all_words = all_words.split()\n",
    "  fdist = nltk.FreqDist(all_words)\n",
    "  words_df = pd.DataFrame({'word':list(fdist.keys()), 'count':list(fdist.values())})\n",
    " \n",
    "  # selecting top 20 most frequent words\n",
    "  d = words_df.nlargest(columns=\"count\", n = terms)\n",
    " \n",
    "  # visualize words and frequencies\n",
    "  plt.figure(figsize=(12,15))\n",
    "  ax = sns.barplot(data=d, x= \"count\", y = \"word\")\n",
    "  ax.set(ylabel = 'Word')\n",
    "  plt.show()"
   ]
  },
  {
   "cell_type": "code",
   "execution_count": 10,
   "metadata": {},
   "outputs": [
    {
     "name": "stderr",
     "output_type": "stream",
     "text": [
      "C:\\Users\\JohnnyRage\\miniconda3\\envs\\tensorflow\\lib\\site-packages\\matplotlib\\backends\\backend_agg.py:211: RuntimeWarning: Glyph 150 missing from current font.\n",
      "  font.set_text(s, 0.0, flags=flags)\n",
      "C:\\Users\\JohnnyRage\\miniconda3\\envs\\tensorflow\\lib\\site-packages\\matplotlib\\backends\\backend_agg.py:176: RuntimeWarning: Glyph 150 missing from current font.\n",
      "  font.load_char(ord(s), flags=flags)\n"
     ]
    },
    {
     "data": {
      "image/png": "[encoded data removed]",
      "text/plain": [
       "<Figure size 864x1080 with 1 Axes>"
      ]
     },
     "metadata": {
      "needs_background": "light"
     },
     "output_type": "display_data"
    }
   ],
   "source": [
    "freq_words(data['Item_Name'], 20)"
   ]
  },
  {
   "cell_type": "code",
   "execution_count": 11,
   "metadata": {},
   "outputs": [],
   "source": [
    "from nltk.corpus import stopwords\n",
    "stop_words = set(stopwords.words('german'))\n",
    "\n",
    " \n",
    "\n",
    "# function to remove stopwords\n",
    "def remove_stopwords(text):\n",
    "    no_stopword_text = [w for w in text.split() if not w in stop_words]\n",
    "    return ' '.join(no_stopword_text)\n",
    "\n",
    " \n",
    "\n",
    "data['Item_Name'] = data['Item_Name'].apply(lambda x: remove_stopwords(x))"
   ]
  },
  {
   "cell_type": "code",
   "execution_count": 12,
   "metadata": {},
   "outputs": [
    {
     "name": "stderr",
     "output_type": "stream",
     "text": [
      "C:\\Users\\JohnnyRage\\miniconda3\\envs\\tensorflow\\lib\\site-packages\\matplotlib\\backends\\backend_agg.py:211: RuntimeWarning: Glyph 150 missing from current font.\n",
      "  font.set_text(s, 0.0, flags=flags)\n",
      "C:\\Users\\JohnnyRage\\miniconda3\\envs\\tensorflow\\lib\\site-packages\\matplotlib\\backends\\backend_agg.py:176: RuntimeWarning: Glyph 150 missing from current font.\n",
      "  font.load_char(ord(s), flags=flags)\n"
     ]
    },
    {
     "data": {
      "image/png": "[encoded data removed]",
      "text/plain": [
       "<Figure size 864x1080 with 1 Axes>"
      ]
     },
     "metadata": {
      "needs_background": "light"
     },
     "output_type": "display_data"
    }
   ],
   "source": [
    "freq_words(data['Item_Name'], 20)"
   ]
  },
  {
   "cell_type": "code",
   "execution_count": 13,
   "metadata": {},
   "outputs": [],
   "source": [
    "def preprocess_text(sen):\n",
    "    # Removing html tags\n",
    "    sentence = remove_tags(sen)\n",
    "\n",
    "    # Remove punctuations and numbers\n",
    "    sentence = re.sub('[^a-zA-Z]', ' ', sentence)\n",
    "\n",
    "    # Single character removal\n",
    "    sentence = re.sub(r\"\\s+[a-zA-Z]\\s+\", ' ', sentence)\n",
    "\n",
    "    # Removing multiple spaces\n",
    "    sentence = re.sub(r'\\s+', ' ', sentence)\n",
    "    \n",
    "    #Removing BackSlash\n",
    "    sentence = re.sub(\"\\'\", \"\", sentence)\n",
    "    \n",
    "    #Removing Minus\n",
    "    sentence = re.sub(\"-\", \"\", sentence)\n",
    "    \n",
    "    #Remove CaseSensitive\n",
    "    sentence = sentence.lower()\n",
    "\n",
    "    return sentence"
   ]
  },
  {
   "cell_type": "code",
   "execution_count": 14,
   "metadata": {},
   "outputs": [],
   "source": [
    "TAG_RE = re.compile(r'<[^>]+>')\n",
    "\n",
    "def remove_tags(text):\n",
    "    return TAG_RE.sub('', text)"
   ]
  },
  {
   "cell_type": "code",
   "execution_count": 15,
   "metadata": {},
   "outputs": [],
   "source": [
    "data['Item_Name'] = data['Item_Name'].apply(lambda x:preprocess_text(x))"
   ]
  },
  {
   "cell_type": "code",
   "execution_count": 16,
   "metadata": {},
   "outputs": [
    {
     "data": {
      "text/html": [
       "<div>\n",
       "<style scoped>\n",
       "    .dataframe tbody tr th:only-of-type {\n",
       "        vertical-align: middle;\n",
       "    }\n",
       "\n",
       "    .dataframe tbody tr th {\n",
       "        vertical-align: top;\n",
       "    }\n",
       "\n",
       "    .dataframe thead th {\n",
       "        text-align: right;\n",
       "    }\n",
       "</style>\n",
       "<table border=\"1\" class=\"dataframe\">\n",
       "  <thead>\n",
       "    <tr style=\"text-align: right;\">\n",
       "      <th></th>\n",
       "      <th>Identifier</th>\n",
       "      <th>Item_Name</th>\n",
       "      <th>Category</th>\n",
       "    </tr>\n",
       "  </thead>\n",
       "  <tbody>\n",
       "    <tr>\n",
       "      <th>0</th>\n",
       "      <td>B019YGSAPW</td>\n",
       "      <td>ravensburger spiele schwarzer peter mitbringspiel</td>\n",
       "      <td>0300 Games &amp; Puzzles</td>\n",
       "    </tr>\n",
       "    <tr>\n",
       "      <th>1</th>\n",
       "      <td>B000QGRCN6</td>\n",
       "      <td>henrys s yo yo ersatzschn re st ck wei</td>\n",
       "      <td>0900 Outdoor &amp; Sports Toys</td>\n",
       "    </tr>\n",
       "    <tr>\n",
       "      <th>2</th>\n",
       "      <td>B00KB45ULE</td>\n",
       "      <td>london teddy bears clql qfjn sorry tut mir lei...</td>\n",
       "      <td>0700 Plush</td>\n",
       "    </tr>\n",
       "    <tr>\n",
       "      <th>3</th>\n",
       "      <td>B07NDXZ8ZH</td>\n",
       "      <td>kiddymoon cm lle cm llebad baby spielbad mit b...</td>\n",
       "      <td>0900 Outdoor &amp; Sports Toys</td>\n",
       "    </tr>\n",
       "    <tr>\n",
       "      <th>4</th>\n",
       "      <td>B079QGYCS7</td>\n",
       "      <td>eichhorn musik set enth lt trommel triangel ma...</td>\n",
       "      <td>1300 All Other</td>\n",
       "    </tr>\n",
       "    <tr>\n",
       "      <th>...</th>\n",
       "      <td>...</td>\n",
       "      <td>...</td>\n",
       "      <td>...</td>\n",
       "    </tr>\n",
       "    <tr>\n",
       "      <th>39495</th>\n",
       "      <td>B07SBHBR4G</td>\n",
       "      <td>animagic einhorn destiny elektronisches haustier</td>\n",
       "      <td>0700 Plush</td>\n",
       "    </tr>\n",
       "    <tr>\n",
       "      <th>39496</th>\n",
       "      <td>B077MYDXF1</td>\n",
       "      <td>heye oktoberfest triangular teile christoph sc...</td>\n",
       "      <td>0300 Games &amp; Puzzles</td>\n",
       "    </tr>\n",
       "    <tr>\n",
       "      <th>39497</th>\n",
       "      <td>B07K8SKX73</td>\n",
       "      <td>monster jam monster dirt starterset monster di...</td>\n",
       "      <td>0400 Vehicles</td>\n",
       "    </tr>\n",
       "    <tr>\n",
       "      <th>39498</th>\n",
       "      <td>B019YY2E2Y</td>\n",
       "      <td>kinetic sand sand box set blau</td>\n",
       "      <td>0200 Arts &amp; Crafts</td>\n",
       "    </tr>\n",
       "    <tr>\n",
       "      <th>39499</th>\n",
       "      <td>B07PPJ7YVM</td>\n",
       "      <td>ravensburger cape town puzzle</td>\n",
       "      <td>0300 Games &amp; Puzzles</td>\n",
       "    </tr>\n",
       "  </tbody>\n",
       "</table>\n",
       "<p>39500 rows × 3 columns</p>\n",
       "</div>"
      ],
      "text/plain": [
       "       Identifier                                          Item_Name  \\\n",
       "0      B019YGSAPW  ravensburger spiele schwarzer peter mitbringspiel   \n",
       "1      B000QGRCN6            henrys s yo yo ersatzschn re st ck wei    \n",
       "2      B00KB45ULE  london teddy bears clql qfjn sorry tut mir lei...   \n",
       "3      B07NDXZ8ZH  kiddymoon cm lle cm llebad baby spielbad mit b...   \n",
       "4      B079QGYCS7  eichhorn musik set enth lt trommel triangel ma...   \n",
       "...           ...                                                ...   \n",
       "39495  B07SBHBR4G   animagic einhorn destiny elektronisches haustier   \n",
       "39496  B077MYDXF1  heye oktoberfest triangular teile christoph sc...   \n",
       "39497  B07K8SKX73  monster jam monster dirt starterset monster di...   \n",
       "39498  B019YY2E2Y                     kinetic sand sand box set blau   \n",
       "39499  B07PPJ7YVM                      ravensburger cape town puzzle   \n",
       "\n",
       "                         Category  \n",
       "0            0300 Games & Puzzles  \n",
       "1      0900 Outdoor & Sports Toys  \n",
       "2                      0700 Plush  \n",
       "3      0900 Outdoor & Sports Toys  \n",
       "4                  1300 All Other  \n",
       "...                           ...  \n",
       "39495                  0700 Plush  \n",
       "39496        0300 Games & Puzzles  \n",
       "39497               0400 Vehicles  \n",
       "39498          0200 Arts & Crafts  \n",
       "39499        0300 Games & Puzzles  \n",
       "\n",
       "[39500 rows x 3 columns]"
      ]
     },
     "execution_count": 16,
     "metadata": {},
     "output_type": "execute_result"
    }
   ],
   "source": [
    "data"
   ]
  },
  {
   "cell_type": "code",
   "execution_count": 17,
   "metadata": {},
   "outputs": [
    {
     "data": {
      "image/png": "[encoded data removed]",
      "text/plain": [
       "<Figure size 864x1080 with 1 Axes>"
      ]
     },
     "metadata": {
      "needs_background": "light"
     },
     "output_type": "display_data"
    }
   ],
   "source": [
    "freq_words(data['Item_Name'], 20)"
   ]
  },
  {
   "cell_type": "markdown",
   "metadata": {},
   "source": [
    "## 6.) Split between Features (X) to predict (y) | Implement Train-Test-Split\n",
    "<a id='6.Section'></a>"
   ]
  },
  {
   "cell_type": "code",
   "execution_count": 18,
   "metadata": {},
   "outputs": [],
   "source": [
    "X = []\n",
    "sentences = list(data['Item_Name'])\n",
    "for sen in sentences:\n",
    "    X.append(preprocess_text(sen))"
   ]
  },
  {
   "cell_type": "code",
   "execution_count": 19,
   "metadata": {},
   "outputs": [
    {
     "data": {
      "text/plain": [
       "'hot wheels gcg monster trucks bone shaker double troubles'"
      ]
     },
     "execution_count": 19,
     "metadata": {},
     "output_type": "execute_result"
    }
   ],
   "source": [
    "X[10]"
   ]
  },
  {
   "cell_type": "code",
   "execution_count": 20,
   "metadata": {},
   "outputs": [],
   "source": [
    "y = data['Category']\n",
    "\n",
    "y = np.array(list(map(lambda x: 1 if x==\"0300 Games & Puzzles\" else 0, y)))"
   ]
  },
  {
   "cell_type": "code",
   "execution_count": 21,
   "metadata": {},
   "outputs": [],
   "source": [
    "X_train, X_test, y_train, y_test = train_test_split(X, y, test_size=0.20, random_state=42)"
   ]
  },
  {
   "cell_type": "markdown",
   "metadata": {},
   "source": [
    "## 7.) Tokenizer\n",
    "<a id='7.Section'></a>"
   ]
  },
  {
   "cell_type": "markdown",
   "metadata": {},
   "source": [
    "As a first step, we will use the Tokenizer class from the keras.preprocessing.text module to create a word-to-index dictionary. In the word-to-index dictionary, each word in the corpus is used as a key, while a corresponding unique index is used as the value for the key."
   ]
  },
  {
   "cell_type": "code",
   "execution_count": 22,
   "metadata": {},
   "outputs": [],
   "source": [
    "tokenizer = Tokenizer(num_words=5000)\n",
    "tokenizer.fit_on_texts(X_train)\n",
    "\n",
    "X_train = tokenizer.texts_to_sequences(X_train)\n",
    "X_test = tokenizer.texts_to_sequences(X_test)"
   ]
  },
  {
   "cell_type": "markdown",
   "metadata": {},
   "source": [
    "**Padding:** We used the so called padding method to ensure that X_train and X_test have the same length otherwise we would not be able to work with our data. "
   ]
  },
  {
   "cell_type": "code",
   "execution_count": 23,
   "metadata": {},
   "outputs": [],
   "source": [
    "# Adding 1 because of reserved 0 index\n",
    "vocab_size = len(tokenizer.word_index) + 1\n",
    "\n",
    "maxlen = 100\n",
    "\n",
    "X_train = pad_sequences(X_train, padding='post', maxlen=maxlen)\n",
    "X_test = pad_sequences(X_test, padding='post', maxlen=maxlen)"
   ]
  },
  {
   "cell_type": "code",
   "execution_count": 24,
   "metadata": {
    "scrolled": true
   },
   "outputs": [
    {
     "data": {
      "text/plain": [
       "array([[ 339,    0,    0, ...,    0,    0,    0],\n",
       "       [ 159, 1129,  266, ...,    0,    0,    0],\n",
       "       [1040,  367, 1752, ...,    0,    0,    0],\n",
       "       ...,\n",
       "       [ 198,   21,  953, ...,    0,    0,    0],\n",
       "       [ 129,  282,  313, ...,    0,    0,    0],\n",
       "       [  36,   27,    6, ...,    0,    0,    0]])"
      ]
     },
     "execution_count": 24,
     "metadata": {},
     "output_type": "execute_result"
    }
   ],
   "source": [
    "X_train"
   ]
  },
  {
   "cell_type": "markdown",
   "metadata": {},
   "source": [
    "## 8.) Embedded Dictionary\n",
    "<a id='8.Section'></a>"
   ]
  },
  {
   "cell_type": "markdown",
   "metadata": {},
   "source": [
    "We will use Glove embeddings to create our feature matrix. In the script we load the Glove word embeddings and create a dictionary. This will contain words as keys and their corresponding embedding list as values."
   ]
  },
  {
   "cell_type": "code",
   "execution_count": 25,
   "metadata": {},
   "outputs": [],
   "source": [
    "from numpy import array\n",
    "from numpy import asarray\n",
    "from numpy import zeros\n",
    "\n",
    "embeddings_dictionary = dict()\n",
    "glove_file = open('data/glove.6B.100d.txt', encoding=\"utf8\")\n",
    "\n",
    "for line in glove_file:\n",
    "    records = line.split()\n",
    "    word = records[0]\n",
    "    vector_dimensions = asarray(records[1:], dtype='float32')\n",
    "    embeddings_dictionary [word] = vector_dimensions\n",
    "glove_file.close()\n"
   ]
  },
  {
   "cell_type": "code",
   "execution_count": 26,
   "metadata": {},
   "outputs": [],
   "source": [
    "embedding_matrix = zeros((vocab_size, 100))\n",
    "for word, index in tokenizer.word_index.items():\n",
    "    embedding_vector = embeddings_dictionary.get(word)\n",
    "    if embedding_vector is not None:\n",
    "        embedding_matrix[index] = embedding_vector"
   ]
  },
  {
   "cell_type": "markdown",
   "metadata": {},
   "source": [
    "## 9.) Simple Neural Network\n",
    "<a id='9.Section'></a>"
   ]
  },
  {
   "cell_type": "code",
   "execution_count": 27,
   "metadata": {},
   "outputs": [],
   "source": [
    "model = Sequential()\n",
    "embedding_layer = Embedding(vocab_size, 100, weights=[embedding_matrix], input_length=maxlen , trainable=False)\n",
    "model.add(embedding_layer)\n",
    "\n",
    "model.add(Flatten())\n",
    "model.add(Dense(1, activation='sigmoid'))"
   ]
  },
  {
   "cell_type": "code",
   "execution_count": 28,
   "metadata": {},
   "outputs": [
    {
     "name": "stdout",
     "output_type": "stream",
     "text": [
      "Model: \"sequential_1\"\n",
      "_________________________________________________________________\n",
      "Layer (type)                 Output Shape              Param #   \n",
      "=================================================================\n",
      "embedding_1 (Embedding)      (None, 100, 100)          2878400   \n",
      "_________________________________________________________________\n",
      "flatten_1 (Flatten)          (None, 10000)             0         \n",
      "_________________________________________________________________\n",
      "dense_1 (Dense)              (None, 1)                 10001     \n",
      "=================================================================\n",
      "Total params: 2,888,401\n",
      "Trainable params: 10,001\n",
      "Non-trainable params: 2,878,400\n",
      "_________________________________________________________________\n",
      "None\n"
     ]
    }
   ],
   "source": [
    "model.compile(optimizer='adam', loss='binary_crossentropy', metrics=['acc'])\n",
    "\n",
    "print(model.summary())"
   ]
  },
  {
   "cell_type": "code",
   "execution_count": 29,
   "metadata": {},
   "outputs": [
    {
     "name": "stdout",
     "output_type": "stream",
     "text": [
      "Train on 25280 samples, validate on 6320 samples\n",
      "Epoch 1/10\n",
      "25280/25280 [==============================] - 1s 29us/step - loss: 0.6613 - acc: 0.8443 - val_loss: 0.6321 - val_acc: 0.8411\n",
      "Epoch 2/10\n",
      "25280/25280 [==============================] - 1s 23us/step - loss: 0.6062 - acc: 0.8443 - val_loss: 0.5839 - val_acc: 0.8411\n",
      "Epoch 3/10\n",
      "25280/25280 [==============================] - 1s 24us/step - loss: 0.5630 - acc: 0.8443 - val_loss: 0.5464 - val_acc: 0.8411\n",
      "Epoch 4/10\n",
      "25280/25280 [==============================] - 1s 24us/step - loss: 0.5295 - acc: 0.8443 - val_loss: 0.5174 - val_acc: 0.8411\n",
      "Epoch 5/10\n",
      "25280/25280 [==============================] - 1s 23us/step - loss: 0.5036 - acc: 0.8443 - val_loss: 0.4953 - val_acc: 0.8411\n",
      "Epoch 6/10\n",
      "25280/25280 [==============================] - 1s 25us/step - loss: 0.4839 - acc: 0.8443 - val_loss: 0.4787 - val_acc: 0.8411\n",
      "Epoch 7/10\n",
      "25280/25280 [==============================] - 1s 24us/step - loss: 0.4691 - acc: 0.8443 - val_loss: 0.4664 - val_acc: 0.8411\n",
      "Epoch 8/10\n",
      "25280/25280 [==============================] - 1s 23us/step - loss: 0.4582 - acc: 0.8443 - val_loss: 0.4573 - val_acc: 0.8411\n",
      "Epoch 9/10\n",
      "25280/25280 [==============================] - 1s 24us/step - loss: 0.4502 - acc: 0.8443 - val_loss: 0.4509 - val_acc: 0.8411\n",
      "Epoch 10/10\n",
      "25280/25280 [==============================] - 1s 23us/step - loss: 0.4444 - acc: 0.8443 - val_loss: 0.4462 - val_acc: 0.8411\n"
     ]
    }
   ],
   "source": [
    "history = model.fit(X_train, y_train, batch_size=128, epochs=10, verbose=1, validation_split=0.2)"
   ]
  },
  {
   "cell_type": "markdown",
   "metadata": {},
   "source": [
    "### Results"
   ]
  },
  {
   "cell_type": "code",
   "execution_count": 30,
   "metadata": {},
   "outputs": [
    {
     "name": "stdout",
     "output_type": "stream",
     "text": [
      "7900/7900 [==============================] - 0s 32us/step\n"
     ]
    }
   ],
   "source": [
    "score = model.evaluate(X_test, y_test, verbose=1)"
   ]
  },
  {
   "cell_type": "code",
   "execution_count": 31,
   "metadata": {},
   "outputs": [
    {
     "name": "stdout",
     "output_type": "stream",
     "text": [
      "Test Score: 0.44770321423494364\n",
      "Test Accuracy: 0.8399999737739563\n"
     ]
    }
   ],
   "source": [
    "print(\"Test Score:\", score[0])\n",
    "print(\"Test Accuracy:\", score[1])"
   ]
  },
  {
   "cell_type": "code",
   "execution_count": 32,
   "metadata": {},
   "outputs": [
    {
     "data": {
      "image/png": "[encoded data removed]",
      "text/plain": [
       "<Figure size 432x288 with 1 Axes>"
      ]
     },
     "metadata": {
      "needs_background": "light"
     },
     "output_type": "display_data"
    }
   ],
   "source": [
    "import matplotlib.pyplot as plt\n",
    "\n",
    "#plt.title('model accuracy')\n",
    "#plt.ylabel('accuracy')\n",
    "#plt.xlabel('epoch')\n",
    "#plt.legend(['train','test'], loc='upper left')\n",
    "#plt.show()\n",
    "\n",
    "plt.plot(history.history['loss'])\n",
    "plt.plot(history.history['val_loss'])\n",
    "\n",
    "plt.title('model loss')\n",
    "plt.ylabel('loss')\n",
    "plt.xlabel('epoch')\n",
    "plt.legend(['train','test'], loc='upper left')\n",
    "plt.show()"
   ]
  },
  {
   "cell_type": "markdown",
   "metadata": {},
   "source": [
    "## 10.) Recurrent Neural Network (LSTM) \n",
    "<a id='10.Section'></a>"
   ]
  },
  {
   "cell_type": "code",
   "execution_count": 33,
   "metadata": {},
   "outputs": [],
   "source": [
    "from keras.layers.core import Dense, Dropout\n",
    "from keras.layers.recurrent import LSTM\n",
    "\n",
    "\n",
    "model = Sequential()\n",
    "embedding_layer = Embedding(vocab_size, 100, weights=[embedding_matrix], input_length=maxlen , trainable=False)\n",
    "model.add(embedding_layer)\n",
    "model.add(LSTM(128))\n",
    "\n",
    "model.add(Dense(1, activation='sigmoid'))\n",
    "model.compile(optimizer='adam', loss='binary_crossentropy', metrics=['acc'])"
   ]
  },
  {
   "cell_type": "code",
   "execution_count": 34,
   "metadata": {
    "scrolled": true
   },
   "outputs": [
    {
     "name": "stdout",
     "output_type": "stream",
     "text": [
      "Model: \"sequential_2\"\n",
      "_________________________________________________________________\n",
      "Layer (type)                 Output Shape              Param #   \n",
      "=================================================================\n",
      "embedding_2 (Embedding)      (None, 100, 100)          2878400   \n",
      "_________________________________________________________________\n",
      "lstm_1 (LSTM)                (None, 128)               117248    \n",
      "_________________________________________________________________\n",
      "dense_2 (Dense)              (None, 1)                 129       \n",
      "=================================================================\n",
      "Total params: 2,995,777\n",
      "Trainable params: 117,377\n",
      "Non-trainable params: 2,878,400\n",
      "_________________________________________________________________\n",
      "None\n"
     ]
    }
   ],
   "source": [
    "print(model.summary())"
   ]
  },
  {
   "cell_type": "code",
   "execution_count": 35,
   "metadata": {},
   "outputs": [
    {
     "name": "stdout",
     "output_type": "stream",
     "text": [
      "Train on 25280 samples, validate on 6320 samples\n",
      "Epoch 1/6\n",
      "25280/25280 [==============================] - 72s 3ms/step - loss: 0.4454 - acc: 0.8443 - val_loss: 0.4378 - val_acc: 0.8411\n",
      "Epoch 2/6\n",
      "25280/25280 [==============================] - 93s 4ms/step - loss: 0.4340 - acc: 0.8443 - val_loss: 0.4378 - val_acc: 0.8411\n",
      "Epoch 3/6\n",
      "25280/25280 [==============================] - 94s 4ms/step - loss: 0.4331 - acc: 0.8443 - val_loss: 0.4389 - val_acc: 0.8411\n",
      "Epoch 4/6\n",
      "25280/25280 [==============================] - 94s 4ms/step - loss: 0.4334 - acc: 0.8443 - val_loss: 0.4386 - val_acc: 0.8411\n",
      "Epoch 5/6\n",
      "25280/25280 [==============================] - 96s 4ms/step - loss: 0.4334 - acc: 0.8443 - val_loss: 0.4378 - val_acc: 0.8411\n",
      "Epoch 6/6\n",
      "25280/25280 [==============================] - 96s 4ms/step - loss: 0.4331 - acc: 0.8443 - val_loss: 0.4387 - val_acc: 0.8411\n",
      "7900/7900 [==============================] - 7s 845us/step\n"
     ]
    }
   ],
   "source": [
    "history = model.fit(X_train, y_train, batch_size=128, epochs=6, verbose=1, validation_split=0.2)\n",
    "\n",
    "score = model.evaluate(X_test, y_test, verbose=1)"
   ]
  },
  {
   "cell_type": "code",
   "execution_count": 36,
   "metadata": {},
   "outputs": [
    {
     "name": "stdout",
     "output_type": "stream",
     "text": [
      "Test Score: 0.4404510192327862\n",
      "Test Accuracy: 0.8399999737739563\n"
     ]
    }
   ],
   "source": [
    "print(\"Test Score:\", score[0])\n",
    "print(\"Test Accuracy:\", score[1])"
   ]
  },
  {
   "cell_type": "code",
   "execution_count": 37,
   "metadata": {},
   "outputs": [
    {
     "data": {
      "image/png": "[encoded data removed]",
      "text/plain": [
       "<Figure size 432x288 with 1 Axes>"
      ]
     },
     "metadata": {
      "needs_background": "light"
     },
     "output_type": "display_data"
    }
   ],
   "source": [
    "#plt.plot(history.history['acc'])\n",
    "#plt.plot(history.history['val_acc'])\n",
    "#plt.title('model accuracy')\n",
    "#plt.ylabel('accuracy')\n",
    "#plt.xlabel('epoch')\n",
    "#plt.legend(['train','test'], loc='upper left')\n",
    "#plt.show()\n",
    "\n",
    "plt.plot(history.history['loss'])\n",
    "plt.plot(history.history['val_loss'])\n",
    "\n",
    "plt.title('model loss')\n",
    "plt.ylabel('loss')\n",
    "plt.xlabel('epoch')\n",
    "plt.legend(['train','test'], loc='upper left')\n",
    "plt.show()"
   ]
  },
  {
   "cell_type": "markdown",
   "metadata": {},
   "source": [
    "## 11.) Predict a random toy\n",
    "<a id='11.Section'></a>"
   ]
  },
  {
   "cell_type": "code",
   "execution_count": 38,
   "metadata": {},
   "outputs": [
    {
     "name": "stdout",
     "output_type": "stream",
     "text": [
      "jamara rc audi lms silber\n"
     ]
    }
   ],
   "source": [
    "instance = X[57]\n",
    "print(instance)\n"
   ]
  },
  {
   "cell_type": "code",
   "execution_count": 39,
   "metadata": {},
   "outputs": [
    {
     "data": {
      "text/plain": [
       "array([[0.17484091]], dtype=float32)"
      ]
     },
     "execution_count": 39,
     "metadata": {},
     "output_type": "execute_result"
    }
   ],
   "source": [
    "instance = tokenizer.texts_to_sequences(instance)\n",
    "\n",
    "flat_list = []\n",
    "for sublist in instance:\n",
    "    for item in sublist:\n",
    "        flat_list.append(item)\n",
    "\n",
    "flat_list = [flat_list]\n",
    "\n",
    "instance = pad_sequences(flat_list, padding='post', maxlen=maxlen)\n",
    "\n",
    "model.predict(instance)"
   ]
  },
  {
   "cell_type": "markdown",
   "metadata": {},
   "source": [
    "## 12.) Result\n",
    "<a id='12.Section'></a>\n",
    "\n",
    "As an result our model predicted 0,1649089. This means that our sigmoid functions predicts a floating value between 0 and 1. Therefore in our case the model predicted the above mentiond value. So when we have a look out our instace (Jamara RC Audi LMS silber) and search for it in our data we saw that it is categorized not as a Game/Puzzle. Our model also predicted it not to be a Game/Puzzle. \n",
    "\n",
    "So we can say that: \n",
    "\n",
    "under 0.5 = No Game/Puzzle </p>\n",
    "above 0.5 = Game/Puzzle"
   ]
  },
  {
   "cell_type": "markdown",
   "metadata": {},
   "source": [
    "## 13.) Outlook\n",
    "<a id='13.Section'></a>\n",
    "\n",
    "As our current model is only recognizing if a Toy is in the Category Games and Puzzles or not, the next step is to roll out this model on all Toys Categories and Subcategories as well as over multiple Product Families beside Toys. \\\n",
    "On the other side we will take this to our catalogue expert team to discuss next steps and other features to implement"
   ]
  },
  {
   "cell_type": "code",
   "execution_count": null,
   "metadata": {},
   "outputs": [],
   "source": []
  }
 ],
 "metadata": {
  "kernelspec": {
   "display_name": "Python 3",
   "language": "python",
   "name": "python3"
  },
  "language_info": {
   "codemirror_mode": {
    "name": "ipython",
    "version": 3
   },
   "file_extension": ".py",
   "mimetype": "text/x-python",
   "name": "python",
   "nbconvert_exporter": "python",
   "pygments_lexer": "ipython3",
   "version": "3.7.7"
  }
 },
 "nbformat": 4,
 "nbformat_minor": 4
}
