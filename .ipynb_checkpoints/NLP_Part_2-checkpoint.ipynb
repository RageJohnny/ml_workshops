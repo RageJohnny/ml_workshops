{
 "cells": [
  {
   "cell_type": "markdown",
   "metadata": {},
   "source": [
    "# Natural Language Processing for Amazon Toys Categorization"
   ]
  },
  {
   "cell_type": "markdown",
   "metadata": {},
   "source": [
    "## Author: \n",
    "Michael Weiherer </p>\n",
    "\n",
    "Johannes Georg Larcher </p>\n",
    "\n",
    "***Studies:*** Machine Learning ILV </p>\n",
    "\n",
    "***Lector:*** Lukas Huber, MSc </p>\n",
    "\n",
    "***University:*** Fachhochschule Kufstein Tirol </p>\n",
    "\n",
    "\n"
   ]
  },
  {
   "cell_type": "markdown",
   "metadata": {},
   "source": [
    "# Comment Lucas:\n",
    "#### Abgabe 2:  \t\n",
    "\n",
    "sehr interessante Umsetzung von NLP - spannend was ihr in eurem WS3 abgeben werdet. \\\n",
    "Hoffe es gibt noch mehr Gelegenheit die Klassifiaktion von Amazon genauer anzusehen und Amazon erlaubt solche Vorgänge.\n",
    "\n",
    "#### Angabe 3:\n",
    "Zeigt die Anwendbarkeit und bringt euer “Projekt” zum Abschluss. Beantwortet ein “Big-Picture” - was war/ist das Problem und die Ausgangssituation? Was konntet ihr verbessern? Was sind weitere Möglichkeiten für zukünftige Entwicklungen? Was lief gut, was weniger?\n",
    "\n",
    "- Anwendung von einem der Vorhergehenden Themen (DL, CNN, GAN, NLP, Time-Series, OCR,…) - Bindet das Thema ein.\n",
    "- Wovon kann euer Projekt profitieren?\n",
    "- Sind Limitationen zu erwarten (Hardware, Datenqualität, …) bzw. aufgetreten?\n"
   ]
  },
  {
   "cell_type": "markdown",
   "metadata": {},
   "source": [
    "## 1.) Project Goal\n",
    "\n",
    "Our goal is to identify the category of toys products of Amazon by its item-name. As a first step we decided to check if a toy is a Game/Puzzle or not. Therefore we are going to use the Natural Language Processing feature and different neural nets for optimization and testing. "
   ]
  },
  {
   "cell_type": "markdown",
   "metadata": {},
   "source": [
    "# 2.) Initial Situation / Status Quo\n",
    "Currently the categorization of products on our page is defined by the input of the manufacturers through their external portal (VendorCentral). Therefore manufacturers choose the category/subcategory in which those products belong. \\\n",
    "As they "
   ]
  },
  {
   "cell_type": "markdown",
   "metadata": {},
   "source": [
    "## 2.) Project Setup\n",
    "\n",
    "First of all, we have loaded the appropiate packages for our project and the pre processed data as csv. "
   ]
  },
  {
   "cell_type": "code",
   "execution_count": 1,
   "metadata": {},
   "outputs": [
    {
     "name": "stderr",
     "output_type": "stream",
     "text": [
      "Using TensorFlow backend.\n"
     ]
    }
   ],
   "source": [
    "import pandas as pd\n",
    "import numpy as np\n",
    "import re\n",
    "import nltk\n",
    "from nltk.corpus import stopwords\n",
    "\n",
    "from numpy import array\n",
    "from keras.preprocessing.text import one_hot\n",
    "from keras.preprocessing.sequence import pad_sequences\n",
    "from keras.models import Sequential\n",
    "from keras.layers.core import Activation, Dropout, Dense\n",
    "from keras.layers import Flatten\n",
    "from keras.layers import GlobalMaxPooling1D\n",
    "from keras.layers.embeddings import Embedding\n",
    "from sklearn.model_selection import train_test_split\n",
    "from keras.preprocessing.text import Tokenizer\n",
    "import seaborn as sns"
   ]
  },
  {
   "cell_type": "code",
   "execution_count": 2,
   "metadata": {},
   "outputs": [],
   "source": [
    "data = pd.read_csv(\"data/rawdata2.csv\", encoding='latin-1')"
   ]
  },
  {
   "cell_type": "markdown",
   "metadata": {},
   "source": [
    "## 3.) Project Analysis \n",
    "\n",
    "Next step was to get a look at the pre processed data (check for missing values, check for distributions) "
   ]
  },
  {
   "cell_type": "code",
   "execution_count": 3,
   "metadata": {},
   "outputs": [
    {
     "data": {
      "text/html": [
       "<div>\n",
       "<style scoped>\n",
       "    .dataframe tbody tr th:only-of-type {\n",
       "        vertical-align: middle;\n",
       "    }\n",
       "\n",
       "    .dataframe tbody tr th {\n",
       "        vertical-align: top;\n",
       "    }\n",
       "\n",
       "    .dataframe thead th {\n",
       "        text-align: right;\n",
       "    }\n",
       "</style>\n",
       "<table border=\"1\" class=\"dataframe\">\n",
       "  <thead>\n",
       "    <tr style=\"text-align: right;\">\n",
       "      <th></th>\n",
       "      <th>Identifier</th>\n",
       "      <th>Item_Name</th>\n",
       "      <th>Category</th>\n",
       "    </tr>\n",
       "  </thead>\n",
       "  <tbody>\n",
       "    <tr>\n",
       "      <th>0</th>\n",
       "      <td>B019YGSAPW</td>\n",
       "      <td>Ravensburger Spiele 23409 - Schwarzer Peter Mi...</td>\n",
       "      <td>0300 Games &amp; Puzzles</td>\n",
       "    </tr>\n",
       "    <tr>\n",
       "      <th>1</th>\n",
       "      <td>B000QGRCN6</td>\n",
       "      <td>Henrys A01002-S01 - Yo-Yo Ersatzschnüre 6 Stüc...</td>\n",
       "      <td>0900 Outdoor &amp; Sports Toys</td>\n",
       "    </tr>\n",
       "    <tr>\n",
       "      <th>2</th>\n",
       "      <td>B00KB45ULE</td>\n",
       "      <td>London Teddy Bears 4X-CLQL-QFJN Sorry, es TUT ...</td>\n",
       "      <td>0700 Plush</td>\n",
       "    </tr>\n",
       "    <tr>\n",
       "      <th>3</th>\n",
       "      <td>B07NDXZ8ZH</td>\n",
       "      <td>KiddyMoon 90X30cm/300 Bälle ? 7Cm Bällebad Bab...</td>\n",
       "      <td>0900 Outdoor &amp; Sports Toys</td>\n",
       "    </tr>\n",
       "    <tr>\n",
       "      <th>4</th>\n",
       "      <td>B079QGYCS7</td>\n",
       "      <td>Eichhorn 100003408 - Musik Set enthält Trommel...</td>\n",
       "      <td>1300 All Other</td>\n",
       "    </tr>\n",
       "  </tbody>\n",
       "</table>\n",
       "</div>"
      ],
      "text/plain": [
       "   Identifier                                          Item_Name  \\\n",
       "0  B019YGSAPW  Ravensburger Spiele 23409 - Schwarzer Peter Mi...   \n",
       "1  B000QGRCN6  Henrys A01002-S01 - Yo-Yo Ersatzschnüre 6 Stüc...   \n",
       "2  B00KB45ULE  London Teddy Bears 4X-CLQL-QFJN Sorry, es TUT ...   \n",
       "3  B07NDXZ8ZH  KiddyMoon 90X30cm/300 Bälle ? 7Cm Bällebad Bab...   \n",
       "4  B079QGYCS7  Eichhorn 100003408 - Musik Set enthält Trommel...   \n",
       "\n",
       "                     Category  \n",
       "0        0300 Games & Puzzles  \n",
       "1  0900 Outdoor & Sports Toys  \n",
       "2                  0700 Plush  \n",
       "3  0900 Outdoor & Sports Toys  \n",
       "4              1300 All Other  "
      ]
     },
     "execution_count": 3,
     "metadata": {},
     "output_type": "execute_result"
    }
   ],
   "source": [
    "data.head()"
   ]
  },
  {
   "cell_type": "code",
   "execution_count": 30,
   "metadata": {},
   "outputs": [
    {
     "name": "stdout",
     "output_type": "stream",
     "text": [
      "<class 'pandas.core.frame.DataFrame'>\n",
      "RangeIndex: 39500 entries, 0 to 39499\n",
      "Data columns (total 3 columns):\n",
      " #   Column      Non-Null Count  Dtype \n",
      "---  ------      --------------  ----- \n",
      " 0   Identifier  39500 non-null  object\n",
      " 1   Item_Name   39500 non-null  object\n",
      " 2   Category    39500 non-null  object\n",
      "dtypes: object(3)\n",
      "memory usage: 925.9+ KB\n"
     ]
    }
   ],
   "source": [
    "data.info()"
   ]
  },
  {
   "cell_type": "code",
   "execution_count": 31,
   "metadata": {},
   "outputs": [
    {
     "data": {
      "text/plain": [
       "Identifier    False\n",
       "Item_Name     False\n",
       "Category      False\n",
       "dtype: bool"
      ]
     },
     "execution_count": 31,
     "metadata": {},
     "output_type": "execute_result"
    }
   ],
   "source": [
    "data.isna().any()"
   ]
  },
  {
   "cell_type": "code",
   "execution_count": 4,
   "metadata": {},
   "outputs": [
    {
     "data": {
      "text/plain": [
       "'0900 Outdoor & Sports Toys'"
      ]
     },
     "execution_count": 4,
     "metadata": {},
     "output_type": "execute_result"
    }
   ],
   "source": [
    "data[\"Category\"][3]"
   ]
  },
  {
   "cell_type": "code",
   "execution_count": 5,
   "metadata": {},
   "outputs": [
    {
     "data": {
      "text/plain": [
       "<matplotlib.axes._subplots.AxesSubplot at 0x17e8042e608>"
      ]
     },
     "execution_count": 5,
     "metadata": {},
     "output_type": "execute_result"
    },
    {
     "data": {
      "image/png": "[encoded data removed]",
      "text/plain": [
       "<Figure size 432x288 with 1 Axes>"
      ]
     },
     "metadata": {
      "needs_background": "light"
     },
     "output_type": "display_data"
    }
   ],
   "source": [
    "sns.countplot(x='Category', data=data)"
   ]
  },
  {
   "cell_type": "markdown",
   "metadata": {},
   "source": [
    "## 4.) Preprocess Text\n",
    "\n",
    "In this next step, we deleted values (html-tags, punctuations and numbers etc.) We deleted these values to ensure a good performance for the neural nets. "
   ]
  },
  {
   "cell_type": "code",
   "execution_count": 6,
   "metadata": {},
   "outputs": [],
   "source": [
    "def preprocess_text(sen):\n",
    "    # Removing html tags\n",
    "    sentence = remove_tags(sen)\n",
    "\n",
    "    # Remove punctuations and numbers\n",
    "    sentence = re.sub('[^a-zA-Z]', ' ', sentence)\n",
    "\n",
    "    # Single character removal\n",
    "    sentence = re.sub(r\"\\s+[a-zA-Z]\\s+\", ' ', sentence)\n",
    "\n",
    "    # Removing multiple spaces\n",
    "    sentence = re.sub(r'\\s+', ' ', sentence)\n",
    "\n",
    "    return sentence"
   ]
  },
  {
   "cell_type": "code",
   "execution_count": 7,
   "metadata": {},
   "outputs": [],
   "source": [
    "TAG_RE = re.compile(r'<[^>]+>')\n",
    "\n",
    "def remove_tags(text):\n",
    "    return TAG_RE.sub('', text)"
   ]
  },
  {
   "cell_type": "markdown",
   "metadata": {},
   "source": [
    "## 5.) Split between Features (X) to predict (y) | Implement Train-Test-Split"
   ]
  },
  {
   "cell_type": "code",
   "execution_count": 8,
   "metadata": {},
   "outputs": [],
   "source": [
    "X = []\n",
    "sentences = list(data['Item_Name'])\n",
    "for sen in sentences:\n",
    "    X.append(preprocess_text(sen))"
   ]
  },
  {
   "cell_type": "code",
   "execution_count": 9,
   "metadata": {},
   "outputs": [
    {
     "data": {
      "text/plain": [
       "'KiddyMoon cm lle Cm llebad Baby Spielbad Mit Bunten llen Rund Made In EU Hellgrau Perle Blau Baby Blau Transparent Silbern'"
      ]
     },
     "execution_count": 9,
     "metadata": {},
     "output_type": "execute_result"
    }
   ],
   "source": [
    "X[3]"
   ]
  },
  {
   "cell_type": "code",
   "execution_count": 10,
   "metadata": {},
   "outputs": [],
   "source": [
    "y = data['Category']\n",
    "\n",
    "y = np.array(list(map(lambda x: 1 if x==\"0300 Games & Puzzles\" else 0, y)))"
   ]
  },
  {
   "cell_type": "code",
   "execution_count": 11,
   "metadata": {},
   "outputs": [],
   "source": [
    "X_train, X_test, y_train, y_test = train_test_split(X, y, test_size=0.20, random_state=42)"
   ]
  },
  {
   "cell_type": "markdown",
   "metadata": {},
   "source": [
    "## 6.) Tokenizer"
   ]
  },
  {
   "cell_type": "markdown",
   "metadata": {},
   "source": [
    "As a first step, we will use the Tokenizer class from the keras.preprocessing.text module to create a word-to-index dictionary. In the word-to-index dictionary, each word in the corpus is used as a key, while a corresponding unique index is used as the value for the key."
   ]
  },
  {
   "cell_type": "code",
   "execution_count": 12,
   "metadata": {},
   "outputs": [],
   "source": [
    "tokenizer = Tokenizer(num_words=5000)\n",
    "tokenizer.fit_on_texts(X_train)\n",
    "\n",
    "X_train = tokenizer.texts_to_sequences(X_train)\n",
    "X_test = tokenizer.texts_to_sequences(X_test)"
   ]
  },
  {
   "cell_type": "markdown",
   "metadata": {},
   "source": [
    "**Padding:** We used the so called padding method to ensure that X_train and X_test have the same length otherwise we would not be able to work with our data. "
   ]
  },
  {
   "cell_type": "code",
   "execution_count": 13,
   "metadata": {},
   "outputs": [],
   "source": [
    "# Adding 1 because of reserved 0 index\n",
    "vocab_size = len(tokenizer.word_index) + 1\n",
    "\n",
    "maxlen = 100\n",
    "\n",
    "X_train = pad_sequences(X_train, padding='post', maxlen=maxlen)\n",
    "X_test = pad_sequences(X_test, padding='post', maxlen=maxlen)"
   ]
  },
  {
   "cell_type": "code",
   "execution_count": 14,
   "metadata": {
    "scrolled": true
   },
   "outputs": [
    {
     "data": {
      "text/plain": [
       "array([[ 357,    0,    0, ...,    0,    0,    0],\n",
       "       [ 173, 1169,  283, ...,    0,    0,    0],\n",
       "       [1078,  386, 1798, ...,    0,    0,    0],\n",
       "       ...,\n",
       "       [ 212,   30,  989, ...,    0,    0,    0],\n",
       "       [ 144,  301,  331, ...,    0,    0,    0],\n",
       "       [  49,   36,    9, ...,    0,    0,    0]])"
      ]
     },
     "execution_count": 14,
     "metadata": {},
     "output_type": "execute_result"
    }
   ],
   "source": [
    "X_train"
   ]
  },
  {
   "cell_type": "markdown",
   "metadata": {},
   "source": [
    "## 7.) Embedded Dictionary"
   ]
  },
  {
   "cell_type": "markdown",
   "metadata": {},
   "source": [
    "We will use Glove embeddings to create our feature matrix. In the script we load the Glove word embeddings and create a dictionary. This will contain words as keys and their corresponding embedding list as values."
   ]
  },
  {
   "cell_type": "code",
   "execution_count": 15,
   "metadata": {},
   "outputs": [],
   "source": [
    "from numpy import array\n",
    "from numpy import asarray\n",
    "from numpy import zeros\n",
    "\n",
    "embeddings_dictionary = dict()\n",
    "glove_file = open('data/glove.6B.100d.txt', encoding=\"utf8\")\n",
    "\n",
    "for line in glove_file:\n",
    "    records = line.split()\n",
    "    word = records[0]\n",
    "    vector_dimensions = asarray(records[1:], dtype='float32')\n",
    "    embeddings_dictionary [word] = vector_dimensions\n",
    "glove_file.close()\n"
   ]
  },
  {
   "cell_type": "code",
   "execution_count": 16,
   "metadata": {},
   "outputs": [],
   "source": [
    "embedding_matrix = zeros((vocab_size, 100))\n",
    "for word, index in tokenizer.word_index.items():\n",
    "    embedding_vector = embeddings_dictionary.get(word)\n",
    "    if embedding_vector is not None:\n",
    "        embedding_matrix[index] = embedding_vector"
   ]
  },
  {
   "cell_type": "markdown",
   "metadata": {},
   "source": [
    "## 8.) Simple Neural Network"
   ]
  },
  {
   "cell_type": "code",
   "execution_count": 17,
   "metadata": {},
   "outputs": [],
   "source": [
    "model = Sequential()\n",
    "embedding_layer = Embedding(vocab_size, 100, weights=[embedding_matrix], input_length=maxlen , trainable=False)\n",
    "model.add(embedding_layer)\n",
    "\n",
    "model.add(Flatten())\n",
    "model.add(Dense(1, activation='sigmoid'))"
   ]
  },
  {
   "cell_type": "code",
   "execution_count": 18,
   "metadata": {},
   "outputs": [
    {
     "name": "stdout",
     "output_type": "stream",
     "text": [
      "Model: \"sequential_1\"\n",
      "_________________________________________________________________\n",
      "Layer (type)                 Output Shape              Param #   \n",
      "=================================================================\n",
      "embedding_1 (Embedding)      (None, 100, 100)          2881100   \n",
      "_________________________________________________________________\n",
      "flatten_1 (Flatten)          (None, 10000)             0         \n",
      "_________________________________________________________________\n",
      "dense_1 (Dense)              (None, 1)                 10001     \n",
      "=================================================================\n",
      "Total params: 2,891,101\n",
      "Trainable params: 10,001\n",
      "Non-trainable params: 2,881,100\n",
      "_________________________________________________________________\n",
      "None\n"
     ]
    }
   ],
   "source": [
    "model.compile(optimizer='adam', loss='binary_crossentropy', metrics=['acc'])\n",
    "\n",
    "print(model.summary())"
   ]
  },
  {
   "cell_type": "code",
   "execution_count": 19,
   "metadata": {},
   "outputs": [
    {
     "name": "stdout",
     "output_type": "stream",
     "text": [
      "Train on 25280 samples, validate on 6320 samples\n",
      "Epoch 1/10\n",
      "25280/25280 [==============================] - 1s 29us/step - loss: 0.6616 - acc: 0.8443 - val_loss: 0.6323 - val_acc: 0.8411\n",
      "Epoch 2/10\n",
      "25280/25280 [==============================] - 1s 25us/step - loss: 0.6066 - acc: 0.8443 - val_loss: 0.5842 - val_acc: 0.8411\n",
      "Epoch 3/10\n",
      "25280/25280 [==============================] - 1s 26us/step - loss: 0.5633 - acc: 0.8443 - val_loss: 0.5466 - val_acc: 0.8411\n",
      "Epoch 4/10\n",
      "25280/25280 [==============================] - 1s 26us/step - loss: 0.5297 - acc: 0.8443 - val_loss: 0.5176 - val_acc: 0.8411\n",
      "Epoch 5/10\n",
      "25280/25280 [==============================] - 1s 25us/step - loss: 0.5037 - acc: 0.8443 - val_loss: 0.4955 - val_acc: 0.8411\n",
      "Epoch 6/10\n",
      "25280/25280 [==============================] - 1s 26us/step - loss: 0.4840 - acc: 0.8443 - val_loss: 0.4788 - val_acc: 0.8411\n",
      "Epoch 7/10\n",
      "25280/25280 [==============================] - 1s 25us/step - loss: 0.4692 - acc: 0.8443 - val_loss: 0.4664 - val_acc: 0.8411\n",
      "Epoch 8/10\n",
      "25280/25280 [==============================] - 1s 25us/step - loss: 0.4583 - acc: 0.8443 - val_loss: 0.4574 - val_acc: 0.8411\n",
      "Epoch 9/10\n",
      "25280/25280 [==============================] - 1s 24us/step - loss: 0.4502 - acc: 0.8443 - val_loss: 0.4509 - val_acc: 0.8411\n",
      "Epoch 10/10\n",
      "25280/25280 [==============================] - 1s 24us/step - loss: 0.4444 - acc: 0.8443 - val_loss: 0.4463 - val_acc: 0.8411\n"
     ]
    }
   ],
   "source": [
    "history = model.fit(X_train, y_train, batch_size=128, epochs=10, verbose=1, validation_split=0.2)"
   ]
  },
  {
   "cell_type": "markdown",
   "metadata": {},
   "source": [
    "### 8.1 Results"
   ]
  },
  {
   "cell_type": "code",
   "execution_count": 20,
   "metadata": {},
   "outputs": [
    {
     "name": "stdout",
     "output_type": "stream",
     "text": [
      "7900/7900 [==============================] - 0s 28us/step\n"
     ]
    }
   ],
   "source": [
    "score = model.evaluate(X_test, y_test, verbose=1)"
   ]
  },
  {
   "cell_type": "code",
   "execution_count": 21,
   "metadata": {},
   "outputs": [
    {
     "name": "stdout",
     "output_type": "stream",
     "text": [
      "Test Score: 0.4477677484856376\n",
      "Test Accuracy: 0.8399999737739563\n"
     ]
    }
   ],
   "source": [
    "print(\"Test Score:\", score[0])\n",
    "print(\"Test Accuracy:\", score[1])"
   ]
  },
  {
   "cell_type": "code",
   "execution_count": 22,
   "metadata": {},
   "outputs": [
    {
     "data": {
      "image/png": "[encoded data removed]",
      "text/plain": [
       "<Figure size 432x288 with 1 Axes>"
      ]
     },
     "metadata": {
      "needs_background": "light"
     },
     "output_type": "display_data"
    }
   ],
   "source": [
    "import matplotlib.pyplot as plt\n",
    "\n",
    "#plt.title('model accuracy')\n",
    "#plt.ylabel('accuracy')\n",
    "#plt.xlabel('epoch')\n",
    "#plt.legend(['train','test'], loc='upper left')\n",
    "#plt.show()\n",
    "\n",
    "plt.plot(history.history['loss'])\n",
    "plt.plot(history.history['val_loss'])\n",
    "\n",
    "plt.title('model loss')\n",
    "plt.ylabel('loss')\n",
    "plt.xlabel('epoch')\n",
    "plt.legend(['train','test'], loc='upper left')\n",
    "plt.show()"
   ]
  },
  {
   "cell_type": "markdown",
   "metadata": {},
   "source": [
    "## 9.) Recurrent Neural Network (LSTM) "
   ]
  },
  {
   "cell_type": "code",
   "execution_count": 23,
   "metadata": {},
   "outputs": [],
   "source": [
    "from keras.layers.core import Dense, Dropout\n",
    "from keras.layers.recurrent import LSTM\n",
    "\n",
    "\n",
    "model = Sequential()\n",
    "embedding_layer = Embedding(vocab_size, 100, weights=[embedding_matrix], input_length=maxlen , trainable=False)\n",
    "model.add(embedding_layer)\n",
    "model.add(LSTM(128))\n",
    "\n",
    "model.add(Dense(1, activation='sigmoid'))\n",
    "model.compile(optimizer='adam', loss='binary_crossentropy', metrics=['acc'])"
   ]
  },
  {
   "cell_type": "code",
   "execution_count": 24,
   "metadata": {
    "scrolled": true
   },
   "outputs": [
    {
     "name": "stdout",
     "output_type": "stream",
     "text": [
      "Model: \"sequential_2\"\n",
      "_________________________________________________________________\n",
      "Layer (type)                 Output Shape              Param #   \n",
      "=================================================================\n",
      "embedding_2 (Embedding)      (None, 100, 100)          2881100   \n",
      "_________________________________________________________________\n",
      "lstm_1 (LSTM)                (None, 128)               117248    \n",
      "_________________________________________________________________\n",
      "dense_2 (Dense)              (None, 1)                 129       \n",
      "=================================================================\n",
      "Total params: 2,998,477\n",
      "Trainable params: 117,377\n",
      "Non-trainable params: 2,881,100\n",
      "_________________________________________________________________\n",
      "None\n"
     ]
    }
   ],
   "source": [
    "print(model.summary())"
   ]
  },
  {
   "cell_type": "code",
   "execution_count": 25,
   "metadata": {},
   "outputs": [
    {
     "name": "stdout",
     "output_type": "stream",
     "text": [
      "Train on 25280 samples, validate on 6320 samples\n",
      "Epoch 1/6\n",
      "25280/25280 [==============================] - 80s 3ms/step - loss: 0.4448 - acc: 0.8443 - val_loss: 0.4454 - val_acc: 0.8411\n",
      "Epoch 2/6\n",
      "25280/25280 [==============================] - 109s 4ms/step - loss: 0.4337 - acc: 0.8443 - val_loss: 0.4397 - val_acc: 0.8411\n",
      "Epoch 3/6\n",
      "25280/25280 [==============================] - 107s 4ms/step - loss: 0.4336 - acc: 0.8443 - val_loss: 0.4389 - val_acc: 0.8411\n",
      "Epoch 4/6\n",
      "25280/25280 [==============================] - 109s 4ms/step - loss: 0.4336 - acc: 0.8443 - val_loss: 0.4378 - val_acc: 0.8411\n",
      "Epoch 5/6\n",
      "25280/25280 [==============================] - 109s 4ms/step - loss: 0.4331 - acc: 0.8443 - val_loss: 0.4382 - val_acc: 0.8411\n",
      "Epoch 6/6\n",
      "25280/25280 [==============================] - 109s 4ms/step - loss: 0.4333 - acc: 0.8443 - val_loss: 0.4379 - val_acc: 0.8411\n",
      "7900/7900 [==============================] - 7s 935us/step\n"
     ]
    }
   ],
   "source": [
    "history = model.fit(X_train, y_train, batch_size=128, epochs=6, verbose=1, validation_split=0.2)\n",
    "\n",
    "score = model.evaluate(X_test, y_test, verbose=1)"
   ]
  },
  {
   "cell_type": "code",
   "execution_count": 26,
   "metadata": {},
   "outputs": [
    {
     "name": "stdout",
     "output_type": "stream",
     "text": [
      "Test Score: 0.43975804476798336\n",
      "Test Accuracy: 0.8399999737739563\n"
     ]
    }
   ],
   "source": [
    "print(\"Test Score:\", score[0])\n",
    "print(\"Test Accuracy:\", score[1])"
   ]
  },
  {
   "cell_type": "code",
   "execution_count": 27,
   "metadata": {},
   "outputs": [
    {
     "data": {
      "image/png": "[encoded data removed]",
      "text/plain": [
       "<Figure size 432x288 with 1 Axes>"
      ]
     },
     "metadata": {
      "needs_background": "light"
     },
     "output_type": "display_data"
    }
   ],
   "source": [
    "import matplotlib.pyplot as plt\n",
    "\n",
    "#plt.plot(history.history['acc'])\n",
    "#plt.plot(history.history['val_acc'])\n",
    "#plt.title('model accuracy')\n",
    "#plt.ylabel('accuracy')\n",
    "#plt.xlabel('epoch')\n",
    "#plt.legend(['train','test'], loc='upper left')\n",
    "#plt.show()\n",
    "\n",
    "plt.plot(history.history['loss'])\n",
    "plt.plot(history.history['val_loss'])\n",
    "\n",
    "plt.title('model loss')\n",
    "plt.ylabel('loss')\n",
    "plt.xlabel('epoch')\n",
    "plt.legend(['train','test'], loc='upper left')\n",
    "plt.show()"
   ]
  },
  {
   "cell_type": "markdown",
   "metadata": {},
   "source": [
    "## 10.) Predict a random toy"
   ]
  },
  {
   "cell_type": "code",
   "execution_count": 28,
   "metadata": {},
   "outputs": [
    {
     "name": "stdout",
     "output_type": "stream",
     "text": [
      "Jamara RC Audi LMS silber\n"
     ]
    }
   ],
   "source": [
    "instance = X[57]\n",
    "print(instance)\n"
   ]
  },
  {
   "cell_type": "code",
   "execution_count": 29,
   "metadata": {},
   "outputs": [
    {
     "data": {
      "text/plain": [
       "array([[0.1649089]], dtype=float32)"
      ]
     },
     "execution_count": 29,
     "metadata": {},
     "output_type": "execute_result"
    }
   ],
   "source": [
    "instance = tokenizer.texts_to_sequences(instance)\n",
    "\n",
    "flat_list = []\n",
    "for sublist in instance:\n",
    "    for item in sublist:\n",
    "        flat_list.append(item)\n",
    "\n",
    "flat_list = [flat_list]\n",
    "\n",
    "instance = pad_sequences(flat_list, padding='post', maxlen=maxlen)\n",
    "\n",
    "model.predict(instance)"
   ]
  },
  {
   "cell_type": "markdown",
   "metadata": {},
   "source": [
    "## Result\n",
    "\n",
    "As an result our model predicted 0,1649089. This means that our sigmoid functions predicts a floating value between 0 and 1. Therefore in our case the model predicted the above mentiond value. So when we have a look out our instace (Jamara RC Audi LMS silber) and search for it in our data we saw that it is categorized not as a Game/Puzzle. Our model also predicted it not to be a Game/Puzzle. \n",
    "\n",
    "So we can say that: \n",
    "\n",
    "under 0.5 = No Game/Puzzle </p>\n",
    "above 0.5 = Game/Puzzle"
   ]
  },
  {
   "cell_type": "code",
   "execution_count": null,
   "metadata": {},
   "outputs": [],
   "source": []
  }
 ],
 "metadata": {
  "kernelspec": {
   "display_name": "Python 3",
   "language": "python",
   "name": "python3"
  },
  "language_info": {
   "codemirror_mode": {
    "name": "ipython",
    "version": 3
   },
   "file_extension": ".py",
   "mimetype": "text/x-python",
   "name": "python",
   "nbconvert_exporter": "python",
   "pygments_lexer": "ipython3",
   "version": "3.7.4"
  }
 },
 "nbformat": 4,
 "nbformat_minor": 4
}
