{
 "cells": [
  {
   "cell_type": "markdown",
   "metadata": {},
   "source": [
    "# Natural Language Processing for Amazon Toys Categorization"
   ]
  },
  {
   "cell_type": "markdown",
   "metadata": {},
   "source": [
    "#### Author: \n",
    "*Michael Weiherer* </p>\n",
    "\n",
    "*Johannes Georg Larcher* </p>\n",
    "\n",
    "***Studies:*** Machine Learning ILV </p>\n",
    "\n",
    "***Lecturer:*** Lukas Huber, MSc </p>\n",
    "\n",
    "***University:*** Fachhochschule Kufstein Tirol </p>"
   ]
  },
  {
   "cell_type": "markdown",
   "metadata": {},
   "source": [
    "# Agenda:\n",
    "\n",
    "1. __Project Preparation__ <a href='#1.Section'>Link to Section</a>\n",
    "2. __Project Setup__ <a href='#2.Section'>Link to Section</a>\n",
    "3. __Project Analysis__ <a href='#3.Section'>Link to Section</a>\n",
    "4. __Preprocessing__ <a href='#4.Section'>Link to Section</a>\n",
    "5. __Simple Neural Network__ <a href='#5.Section'>Link to Section</a>\n",
    "6. __Recurrent Neural Network - Game/Puzzle__ <a href='#6.Section'>Link to Section</a>\n",
    "7. __Recurrent Neural Network - Game/Puzzle - Prediction__ <a href='#7.Section'>Link to Section</a>\n",
    "8. __Recurrent Neural Network - All Categories__ <a href='#8.Section'>Link to Section</a>\n",
    "9. __Recurrent Neural Network - All Categories - Prediction__ <a href='#9.Section'>Link to Section</a>"
   ]
  },
  {
   "cell_type": "markdown",
   "metadata": {},
   "source": [
    "# Comment Workshop 2 - Inspiration for Workshop 3:\n",
    "#### Abgabe 2:  \t\n",
    "\n",
    "sehr interessante Umsetzung von NLP - spannend was ihr in eurem WS3 abgeben werdet. \\\n",
    "Hoffe es gibt noch mehr Gelegenheit die Klassifiaktion von Amazon genauer anzusehen und Amazon erlaubt solche Vorgänge.\n",
    "\n",
    "#### Angabe 3:\n",
    "Zeigt die Anwendbarkeit und bringt euer “Projekt” zum Abschluss. Beantwortet ein “Big-Picture” - was war/ist das Problem und die Ausgangssituation? Was konntet ihr verbessern? Was sind weitere Möglichkeiten für zukünftige Entwicklungen? Was lief gut, was weniger?\n",
    "\n",
    "- Anwendung von einem der Vorhergehenden Themen (DL, CNN, GAN, NLP, Time-Series, OCR,…) - Bindet das Thema ein.\n",
    "- Wovon kann euer Projekt profitieren?\n",
    "- Sind Limitationen zu erwarten (Hardware, Datenqualität, …) bzw. aufgetreten?"
   ]
  },
  {
   "cell_type": "markdown",
   "metadata": {},
   "source": [
    "# 1.) Project Preparation\n",
    "<a id='1.Section'></a>"
   ]
  },
  {
   "cell_type": "markdown",
   "metadata": {},
   "source": [
    "## 1.1.) Project Goal - Stage I \n",
    "\n",
    "Our goal is to identify if a toys product belongs to the category games & puzzles by its item-name. This is crucial for Amazon currently as this is one of the most important categories during COVID-19 as customers started to puzzle/play more during the lockdown. Therefore we are going to use the Natural Language Processing feature and different neural nets for optimization and testing. "
   ]
  },
  {
   "cell_type": "markdown",
   "metadata": {},
   "source": [
    "## 1.2.) Project Goal - Stage II\n",
    "After completing Stage I  and presenting it in class, we decided to focus more on our LSTM Neural Network. Therefore we decided to try to extend our LSTM to be able to identify each category by its *Item_Name*.\n",
    "\n"
   ]
  },
  {
   "cell_type": "markdown",
   "metadata": {},
   "source": [
    "# 2.) Project Setup\n",
    "<a id='2.Section'></a>"
   ]
  },
  {
   "cell_type": "markdown",
   "metadata": {},
   "source": [
    "## 2.1.) Initial Situation / Status Quo\n",
    "Currently the categorization of products on Amazon is defined by the input of the manufacturers through their external portal (VendorCentral). Therefore manufacturers choose the category/subcategory in which their products belong. \\\n",
    "Round about 20% - 30% of the selection is currently classified wrong which has following negative effects: \\\n",
    "- Bad customer experience on the website due to wrong search results when filtering for categories\n",
    "- Wrong analysis when looking into category data (internal reviews as well as external reports for manufacturers)\n",
    "- Impacted ordering as Amazon systems has different inbound strategies per category (very important right now during Covid-19 prioritization)"
   ]
  },
  {
   "cell_type": "markdown",
   "metadata": {},
   "source": [
    "## 2.2.) Required Packages"
   ]
  },
  {
   "cell_type": "markdown",
   "metadata": {},
   "source": [
    "First of all, we have loaded the appropiate packages for our project."
   ]
  },
  {
   "cell_type": "code",
   "execution_count": 51,
   "metadata": {},
   "outputs": [],
   "source": [
    "import numpy as np\n",
    "from numpy import array\n",
    "from numpy import asarray\n",
    "from numpy import zeros\n",
    "import pandas as pd\n",
    "import matplotlib.pyplot as plt\n",
    "import seaborn as sns\n",
    "from keras.preprocessing.text import Tokenizer\n",
    "from keras.preprocessing.sequence import pad_sequences\n",
    "from keras.models import Sequential\n",
    "from keras.layers import Dense, Embedding, LSTM, SpatialDropout1D\n",
    "from sklearn.model_selection import train_test_split\n",
    "from keras.utils.np_utils import to_categorical\n",
    "from keras.callbacks import EarlyStopping\n",
    "from keras.layers import Dropout\n",
    "from keras.layers.recurrent import LSTM\n",
    "from keras.preprocessing.text import one_hot\n",
    "from keras.preprocessing.sequence import pad_sequences\n",
    "from keras.models import Sequential\n",
    "from keras.layers.core import Activation, Dropout, Dense\n",
    "from keras.layers import Flatten\n",
    "from keras.layers import GlobalMaxPooling1D\n",
    "from keras.layers.embeddings import Embedding\n",
    "import re\n",
    "import nltk\n",
    "from nltk.corpus import stopwords\n",
    "from nltk import word_tokenize\n",
    "STOPWORDS = set(stopwords.words('german'))"
   ]
  },
  {
   "cell_type": "markdown",
   "metadata": {},
   "source": [
    "## 2.3. Data Loading"
   ]
  },
  {
   "cell_type": "markdown",
   "metadata": {},
   "source": [
    "The next step was to load the raw data we received from Amazon."
   ]
  },
  {
   "cell_type": "code",
   "execution_count": 2,
   "metadata": {},
   "outputs": [],
   "source": [
    "data = pd.read_csv(\"data/rawdata2.csv\", encoding='latin-1')"
   ]
  },
  {
   "cell_type": "markdown",
   "metadata": {},
   "source": [
    "# 3.) Project Analysis\n",
    "<a id='3.Section'></a>"
   ]
  },
  {
   "cell_type": "markdown",
   "metadata": {},
   "source": [
    "After completing the previous steps, we took a first look at our data."
   ]
  },
  {
   "cell_type": "code",
   "execution_count": 3,
   "metadata": {},
   "outputs": [
    {
     "data": {
      "text/html": [
       "<div>\n",
       "<style scoped>\n",
       "    .dataframe tbody tr th:only-of-type {\n",
       "        vertical-align: middle;\n",
       "    }\n",
       "\n",
       "    .dataframe tbody tr th {\n",
       "        vertical-align: top;\n",
       "    }\n",
       "\n",
       "    .dataframe thead th {\n",
       "        text-align: right;\n",
       "    }\n",
       "</style>\n",
       "<table border=\"1\" class=\"dataframe\">\n",
       "  <thead>\n",
       "    <tr style=\"text-align: right;\">\n",
       "      <th></th>\n",
       "      <th>Identifier</th>\n",
       "      <th>Item_Name</th>\n",
       "      <th>Category</th>\n",
       "    </tr>\n",
       "  </thead>\n",
       "  <tbody>\n",
       "    <tr>\n",
       "      <th>0</th>\n",
       "      <td>B019YGSAPW</td>\n",
       "      <td>Ravensburger Spiele 23409 - Schwarzer Peter Mi...</td>\n",
       "      <td>0300 Games &amp; Puzzles</td>\n",
       "    </tr>\n",
       "    <tr>\n",
       "      <th>1</th>\n",
       "      <td>B000QGRCN6</td>\n",
       "      <td>Henrys A01002-S01 - Yo-Yo Ersatzschnüre 6 Stüc...</td>\n",
       "      <td>0900 Outdoor &amp; Sports Toys</td>\n",
       "    </tr>\n",
       "    <tr>\n",
       "      <th>2</th>\n",
       "      <td>B00KB45ULE</td>\n",
       "      <td>London Teddy Bears 4X-CLQL-QFJN Sorry, es TUT ...</td>\n",
       "      <td>0700 Plush</td>\n",
       "    </tr>\n",
       "    <tr>\n",
       "      <th>3</th>\n",
       "      <td>B07NDXZ8ZH</td>\n",
       "      <td>KiddyMoon 90X30cm/300 Bälle ? 7Cm Bällebad Bab...</td>\n",
       "      <td>0900 Outdoor &amp; Sports Toys</td>\n",
       "    </tr>\n",
       "    <tr>\n",
       "      <th>4</th>\n",
       "      <td>B079QGYCS7</td>\n",
       "      <td>Eichhorn 100003408 - Musik Set enthält Trommel...</td>\n",
       "      <td>1300 All Other</td>\n",
       "    </tr>\n",
       "  </tbody>\n",
       "</table>\n",
       "</div>"
      ],
      "text/plain": [
       "   Identifier                                          Item_Name  \\\n",
       "0  B019YGSAPW  Ravensburger Spiele 23409 - Schwarzer Peter Mi...   \n",
       "1  B000QGRCN6  Henrys A01002-S01 - Yo-Yo Ersatzschnüre 6 Stüc...   \n",
       "2  B00KB45ULE  London Teddy Bears 4X-CLQL-QFJN Sorry, es TUT ...   \n",
       "3  B07NDXZ8ZH  KiddyMoon 90X30cm/300 Bälle ? 7Cm Bällebad Bab...   \n",
       "4  B079QGYCS7  Eichhorn 100003408 - Musik Set enthält Trommel...   \n",
       "\n",
       "                     Category  \n",
       "0        0300 Games & Puzzles  \n",
       "1  0900 Outdoor & Sports Toys  \n",
       "2                  0700 Plush  \n",
       "3  0900 Outdoor & Sports Toys  \n",
       "4              1300 All Other  "
      ]
     },
     "execution_count": 3,
     "metadata": {},
     "output_type": "execute_result"
    }
   ],
   "source": [
    "data.head()"
   ]
  },
  {
   "cell_type": "code",
   "execution_count": 4,
   "metadata": {
    "scrolled": true
   },
   "outputs": [
    {
     "name": "stdout",
     "output_type": "stream",
     "text": [
      "<class 'pandas.core.frame.DataFrame'>\n",
      "RangeIndex: 39500 entries, 0 to 39499\n",
      "Data columns (total 3 columns):\n",
      " #   Column      Non-Null Count  Dtype \n",
      "---  ------      --------------  ----- \n",
      " 0   Identifier  39500 non-null  object\n",
      " 1   Item_Name   39500 non-null  object\n",
      " 2   Category    39500 non-null  object\n",
      "dtypes: object(3)\n",
      "memory usage: 925.9+ KB\n"
     ]
    }
   ],
   "source": [
    "data.info()"
   ]
  },
  {
   "cell_type": "code",
   "execution_count": 5,
   "metadata": {},
   "outputs": [
    {
     "data": {
      "text/plain": [
       "Identifier    False\n",
       "Item_Name     False\n",
       "Category      False\n",
       "dtype: bool"
      ]
     },
     "execution_count": 5,
     "metadata": {},
     "output_type": "execute_result"
    }
   ],
   "source": [
    "data.isna().any()"
   ]
  },
  {
   "cell_type": "code",
   "execution_count": 16,
   "metadata": {},
   "outputs": [
    {
     "data": {
      "text/plain": [
       "Folienballon im Zahlen-Design, gro&szlig;, 86,4&nbsp;cm                                                   21\n",
       "Elfique Tipi INDIANERZELT DOPPELT Gepolsterter Decke und Drei Kissen                                      12\n",
       "Elfique New Tipi INDIANERZELT SPIELZELT DOPPELT Gepolsterter Decke (Zelt mit Decke)                       10\n",
       "Papier Partytüten                                                                                         10\n",
       "Widmann - Kinderkostüm Polizistin                                                                          7\n",
       "                                                                                                          ..\n",
       "Goki 51713 - Kaufläden und Zubehör - Lebensmittel und Haushaltswaren im Korb                               1\n",
       "Majorette 212053165 Mercedes-AMG G63 Geschenkset, Miniaturfahrzeuge, 5 Spielzeugautos, Die-Cast, 7,5cm     1\n",
       "Barbie FRP01 Supermarché Supermarkt und Puppe, Mehrfarbig                                                  1\n",
       "Little Friends - Katze Sally                                                                               1\n",
       "PLAYMOBIL Country 70133 Bauernhaus, Ab 4 Jahren                                                            1\n",
       "Name: Item_Name, Length: 39131, dtype: int64"
      ]
     },
     "execution_count": 16,
     "metadata": {},
     "output_type": "execute_result"
    }
   ],
   "source": [
    "data.Item_Name.value_counts()"
   ]
  },
  {
   "cell_type": "code",
   "execution_count": 14,
   "metadata": {},
   "outputs": [
    {
     "data": {
      "image/png": "[encoded data removed]",
      "text/plain": [
       "<Figure size 432x288 with 1 Axes>"
      ]
     },
     "metadata": {
      "needs_background": "light"
     },
     "output_type": "display_data"
    }
   ],
   "source": [
    "ax = sns.countplot(x='Category', data=data)\n",
    "ax.set_xticklabels(ax.get_xticklabels(), rotation=40, ha=\"right\")\n",
    "plt.tight_layout()\n",
    "plt.show()"
   ]
  },
  {
   "cell_type": "markdown",
   "metadata": {},
   "source": [
    "## 3.1.) Frequency Word Tables\n",
    "To ensure good performance using our Neural Network we decided to check how often specific words occur. This is done for later usage when we are going to refuse unnecessary words - so called stopwords"
   ]
  },
  {
   "cell_type": "code",
   "execution_count": 24,
   "metadata": {},
   "outputs": [],
   "source": [
    "def freq_words(x, terms = 30):\n",
    "  all_words = ' '.join([text for text in x])\n",
    "  all_words = all_words.split()\n",
    "  fdist = nltk.FreqDist(all_words)\n",
    "  words_df = pd.DataFrame({'word':list(fdist.keys()), 'count':list(fdist.values())})\n",
    " \n",
    "  # selecting top most frequent words\n",
    "  d = words_df.nlargest(columns=\"count\", n = terms)\n",
    " \n",
    "  # visualize words and frequencies\n",
    "  plt.figure(figsize=(12,15))\n",
    "  ax = sns.barplot(data=d, x= \"count\", y = \"word\")\n",
    "  ax.set(ylabel = 'Word')\n",
    "  plt.show()"
   ]
  },
  {
   "cell_type": "code",
   "execution_count": 25,
   "metadata": {
    "scrolled": true
   },
   "outputs": [
    {
     "name": "stderr",
     "output_type": "stream",
     "text": [
      "C:\\Users\\JohnnyRage\\miniconda3\\envs\\tensorflow\\lib\\site-packages\\matplotlib\\backends\\backend_agg.py:211: RuntimeWarning: Glyph 150 missing from current font.\n",
      "  font.set_text(s, 0.0, flags=flags)\n",
      "C:\\Users\\JohnnyRage\\miniconda3\\envs\\tensorflow\\lib\\site-packages\\matplotlib\\backends\\backend_agg.py:176: RuntimeWarning: Glyph 150 missing from current font.\n",
      "  font.load_char(ord(s), flags=flags)\n"
     ]
    },
    {
     "data": {
      "image/png": "[encoded data removed]",
      "text/plain": [
       "<Figure size 864x1080 with 1 Axes>"
      ]
     },
     "metadata": {
      "needs_background": "light"
     },
     "output_type": "display_data"
    }
   ],
   "source": [
    "freq_words(data['Item_Name'], 20)"
   ]
  },
  {
   "cell_type": "markdown",
   "metadata": {},
   "source": [
    "## 4.) Preprocessing\n",
    "<a id='4.Section'></a>"
   ]
  },
  {
   "cell_type": "markdown",
   "metadata": {},
   "source": [
    "The next big step within our project is preprocessing our data to ensure good performance later on. "
   ]
  },
  {
   "cell_type": "markdown",
   "metadata": {},
   "source": [
    "## 4.1.) Text Preprocessing"
   ]
  },
  {
   "cell_type": "markdown",
   "metadata": {},
   "source": [
    "After checking for the most used words, our next step was to clean our data (get rid of any unwanted HTML - Tags, punctuations etc.) "
   ]
  },
  {
   "cell_type": "code",
   "execution_count": 28,
   "metadata": {},
   "outputs": [],
   "source": [
    "data = data.reset_index(drop=True)\n",
    "REPLACE_BY_SPACE_RE = re.compile('[/(){}\\[\\]\\|@,;]')\n",
    "BAD_SYMBOLS_RE = re.compile('[^0-9a-z #+_]')\n",
    "STOPWORDS = set(stopwords.words('german'))\n",
    "\n",
    "def clean_text(text):\n",
    "    text = text.lower()\n",
    "    text = REPLACE_BY_SPACE_RE.sub(' ', text) \n",
    "    text = BAD_SYMBOLS_RE.sub('', text) \n",
    "    text = text.replace('x', '')\n",
    "    text = ' '.join(word for word in text.split() if word not in STOPWORDS)\n",
    "    return text\n",
    "data['Item_Name'] = data['Item_Name'].apply(clean_text)"
   ]
  },
  {
   "cell_type": "code",
   "execution_count": 35,
   "metadata": {},
   "outputs": [],
   "source": [
    "def preprocess_text(sen):\n",
    "    # Removing html tags\n",
    "    sentence = remove_tags(sen)\n",
    "\n",
    "    # Remove punctuations and numbers\n",
    "    sentence = re.sub('[^a-zA-Z]', ' ', sentence)\n",
    "\n",
    "    # Single character removal\n",
    "    sentence = re.sub(r\"\\s+[a-zA-Z]\\s+\", ' ', sentence)\n",
    "\n",
    "    # Removing multiple spaces\n",
    "    sentence = re.sub(r'\\s+', ' ', sentence)\n",
    "    \n",
    "    #Removing BackSlash\n",
    "    sentence = re.sub(\"\\'\", \"\", sentence)\n",
    "    \n",
    "    #Removing Minus\n",
    "    sentence = re.sub(\"-\", \"\", sentence)\n",
    "    \n",
    "    #Remove CaseSensitive\n",
    "    sentence = sentence.lower()\n",
    "\n",
    "    return sentence\n",
    "\n",
    "TAG_RE = re.compile(r'<[^>]+>')\n",
    "\n",
    "def remove_tags(text):\n",
    "    return TAG_RE.sub('', text)"
   ]
  },
  {
   "cell_type": "code",
   "execution_count": 30,
   "metadata": {
    "scrolled": true
   },
   "outputs": [
    {
     "data": {
      "text/html": [
       "<div>\n",
       "<style scoped>\n",
       "    .dataframe tbody tr th:only-of-type {\n",
       "        vertical-align: middle;\n",
       "    }\n",
       "\n",
       "    .dataframe tbody tr th {\n",
       "        vertical-align: top;\n",
       "    }\n",
       "\n",
       "    .dataframe thead th {\n",
       "        text-align: right;\n",
       "    }\n",
       "</style>\n",
       "<table border=\"1\" class=\"dataframe\">\n",
       "  <thead>\n",
       "    <tr style=\"text-align: right;\">\n",
       "      <th></th>\n",
       "      <th>Identifier</th>\n",
       "      <th>Item_Name</th>\n",
       "      <th>Category</th>\n",
       "    </tr>\n",
       "  </thead>\n",
       "  <tbody>\n",
       "    <tr>\n",
       "      <th>0</th>\n",
       "      <td>B019YGSAPW</td>\n",
       "      <td>ravensburger spiele 23409 schwarzer peter mitb...</td>\n",
       "      <td>0300 Games &amp; Puzzles</td>\n",
       "    </tr>\n",
       "    <tr>\n",
       "      <th>1</th>\n",
       "      <td>B000QGRCN6</td>\n",
       "      <td>henrys a01002s01 yoyo ersatzschnre 6 stck wei</td>\n",
       "      <td>0900 Outdoor &amp; Sports Toys</td>\n",
       "    </tr>\n",
       "    <tr>\n",
       "      <th>2</th>\n",
       "      <td>B00KB45ULE</td>\n",
       "      <td>london teddy bears 4clqlqfjn sorry tut leid braun</td>\n",
       "      <td>0700 Plush</td>\n",
       "    </tr>\n",
       "    <tr>\n",
       "      <th>3</th>\n",
       "      <td>B07NDXZ8ZH</td>\n",
       "      <td>kiddymoon 9030cm 300 blle 7cm bllebad baby spi...</td>\n",
       "      <td>0900 Outdoor &amp; Sports Toys</td>\n",
       "    </tr>\n",
       "    <tr>\n",
       "      <th>4</th>\n",
       "      <td>B079QGYCS7</td>\n",
       "      <td>eichhorn 100003408 musik set enthlt trommel tr...</td>\n",
       "      <td>1300 All Other</td>\n",
       "    </tr>\n",
       "  </tbody>\n",
       "</table>\n",
       "</div>"
      ],
      "text/plain": [
       "   Identifier                                          Item_Name  \\\n",
       "0  B019YGSAPW  ravensburger spiele 23409 schwarzer peter mitb...   \n",
       "1  B000QGRCN6      henrys a01002s01 yoyo ersatzschnre 6 stck wei   \n",
       "2  B00KB45ULE  london teddy bears 4clqlqfjn sorry tut leid braun   \n",
       "3  B07NDXZ8ZH  kiddymoon 9030cm 300 blle 7cm bllebad baby spi...   \n",
       "4  B079QGYCS7  eichhorn 100003408 musik set enthlt trommel tr...   \n",
       "\n",
       "                     Category  \n",
       "0        0300 Games & Puzzles  \n",
       "1  0900 Outdoor & Sports Toys  \n",
       "2                  0700 Plush  \n",
       "3  0900 Outdoor & Sports Toys  \n",
       "4              1300 All Other  "
      ]
     },
     "execution_count": 30,
     "metadata": {},
     "output_type": "execute_result"
    }
   ],
   "source": [
    "data.head()"
   ]
  },
  {
   "cell_type": "markdown",
   "metadata": {},
   "source": [
    "## 4.2.) Test - Train - Split"
   ]
  },
  {
   "cell_type": "markdown",
   "metadata": {},
   "source": [
    "*Reminder:* Despite we were having troubles with our train - test splits we implemented two different train - test - splits to ensure all neural networks to work properly"
   ]
  },
  {
   "cell_type": "markdown",
   "metadata": {},
   "source": [
    "### Test - Train Split for Simple Neural Network and Categorical LSTM"
   ]
  },
  {
   "cell_type": "code",
   "execution_count": 36,
   "metadata": {},
   "outputs": [],
   "source": [
    "X = []\n",
    "sentences = list(data['Item_Name'])\n",
    "for sen in sentences:\n",
    "    X.append(preprocess_text(sen))"
   ]
  },
  {
   "cell_type": "code",
   "execution_count": 37,
   "metadata": {},
   "outputs": [],
   "source": [
    "y = data['Category']\n",
    "\n",
    "y = np.array(list(map(lambda x: 1 if x==\"0300 Games & Puzzles\" else 0, y)))"
   ]
  },
  {
   "cell_type": "code",
   "execution_count": 38,
   "metadata": {},
   "outputs": [],
   "source": [
    "X_train, X_test, y_train, y_test = train_test_split(X, y, test_size=0.20, random_state=42)"
   ]
  },
  {
   "cell_type": "markdown",
   "metadata": {},
   "source": [
    "## 4.3.) Tokenizer"
   ]
  },
  {
   "cell_type": "markdown",
   "metadata": {},
   "source": [
    "We will use the Tokenizer class from the keras.preprocessing.text module to create a word-to-index dictionary. In the word-to-index dictionary, each word in the corpus is used as a key, while a corresponding unique index is used as the value for the key."
   ]
  },
  {
   "cell_type": "code",
   "execution_count": 39,
   "metadata": {},
   "outputs": [],
   "source": [
    "tokenizer = Tokenizer(num_words=5000)\n",
    "tokenizer.fit_on_texts(X_train)\n",
    "\n",
    "X_train = tokenizer.texts_to_sequences(X_train)\n",
    "X_test = tokenizer.texts_to_sequences(X_test)"
   ]
  },
  {
   "cell_type": "markdown",
   "metadata": {},
   "source": [
    "### 4.3.1.) Padding"
   ]
  },
  {
   "cell_type": "markdown",
   "metadata": {},
   "source": [
    "We used the so called padding method to ensure that X_train and X_test have the same length otherwise we would not be able to work with our data. "
   ]
  },
  {
   "cell_type": "code",
   "execution_count": 40,
   "metadata": {},
   "outputs": [],
   "source": [
    "# Adding 1 because of reserved 0 index\n",
    "vocab_size = len(tokenizer.word_index) + 1\n",
    "\n",
    "maxlen = 100\n",
    "\n",
    "X_train = pad_sequences(X_train, padding='post', maxlen=maxlen)\n",
    "X_test = pad_sequences(X_test, padding='post', maxlen=maxlen)"
   ]
  },
  {
   "cell_type": "code",
   "execution_count": 41,
   "metadata": {
    "scrolled": true
   },
   "outputs": [
    {
     "data": {
      "text/plain": [
       "array([[ 288,    0,    0, ...,    0,    0,    0],\n",
       "       [ 139, 1043,  293, ...,    0,    0,    0],\n",
       "       [ 900,  372, 1711, ...,    0,    0,    0],\n",
       "       ...,\n",
       "       [ 168,   22,  880, ...,    0,    0,    0],\n",
       "       [ 118,  238,  278, ...,    0,    0,    0],\n",
       "       [  29,   32,   10, ...,    0,    0,    0]])"
      ]
     },
     "execution_count": 41,
     "metadata": {},
     "output_type": "execute_result"
    }
   ],
   "source": [
    "X_train"
   ]
  },
  {
   "cell_type": "markdown",
   "metadata": {},
   "source": [
    "## 4.4.) Embedded Dictionary"
   ]
  },
  {
   "cell_type": "markdown",
   "metadata": {},
   "source": [
    "We will use Glove embeddings to create our feature matrix. In the script we load the Glove word embeddings and create a dictionary. This will contain words as keys and their corresponding embedding list as values."
   ]
  },
  {
   "cell_type": "code",
   "execution_count": 43,
   "metadata": {},
   "outputs": [],
   "source": [
    "embeddings_dictionary = dict()\n",
    "glove_file = open('data/glove.6B.100d.txt', encoding=\"utf8\")\n",
    "\n",
    "for line in glove_file:\n",
    "    records = line.split()\n",
    "    word = records[0]\n",
    "    vector_dimensions = asarray(records[1:], dtype='float32')\n",
    "    embeddings_dictionary [word] = vector_dimensions\n",
    "glove_file.close()"
   ]
  },
  {
   "cell_type": "code",
   "execution_count": 44,
   "metadata": {},
   "outputs": [],
   "source": [
    "embedding_matrix = zeros((vocab_size, 100))\n",
    "for word, index in tokenizer.word_index.items():\n",
    "    embedding_vector = embeddings_dictionary.get(word)\n",
    "    if embedding_vector is not None:\n",
    "        embedding_matrix[index] = embedding_vector"
   ]
  },
  {
   "cell_type": "markdown",
   "metadata": {},
   "source": [
    "# 5.) Simple Neural Network\n",
    "<a id='5.Section'></a>"
   ]
  },
  {
   "cell_type": "markdown",
   "metadata": {},
   "source": [
    "To begin with, we setup a Simple Neural Network to check first performance."
   ]
  },
  {
   "cell_type": "code",
   "execution_count": 45,
   "metadata": {},
   "outputs": [],
   "source": [
    "model = Sequential()\n",
    "embedding_layer = Embedding(vocab_size, 100, weights=[embedding_matrix], input_length=maxlen , trainable=False)\n",
    "model.add(embedding_layer)\n",
    "\n",
    "model.add(Flatten())\n",
    "model.add(Dense(1, activation='sigmoid'))"
   ]
  },
  {
   "cell_type": "code",
   "execution_count": 46,
   "metadata": {
    "scrolled": true
   },
   "outputs": [
    {
     "name": "stdout",
     "output_type": "stream",
     "text": [
      "Model: \"sequential_1\"\n",
      "_________________________________________________________________\n",
      "Layer (type)                 Output Shape              Param #   \n",
      "=================================================================\n",
      "embedding_1 (Embedding)      (None, 100, 100)          3259900   \n",
      "_________________________________________________________________\n",
      "flatten_1 (Flatten)          (None, 10000)             0         \n",
      "_________________________________________________________________\n",
      "dense_1 (Dense)              (None, 1)                 10001     \n",
      "=================================================================\n",
      "Total params: 3,269,901\n",
      "Trainable params: 10,001\n",
      "Non-trainable params: 3,259,900\n",
      "_________________________________________________________________\n",
      "None\n"
     ]
    }
   ],
   "source": [
    "model.compile(optimizer='adam', loss='binary_crossentropy', metrics=['acc'])\n",
    "\n",
    "print(model.summary())"
   ]
  },
  {
   "cell_type": "code",
   "execution_count": 47,
   "metadata": {
    "scrolled": true
   },
   "outputs": [
    {
     "name": "stdout",
     "output_type": "stream",
     "text": [
      "Train on 25280 samples, validate on 6320 samples\n",
      "Epoch 1/10\n",
      "25280/25280 [==============================] - 1s 27us/step - loss: 0.6618 - acc: 0.8443 - val_loss: 0.6326 - val_acc: 0.8411\n",
      "Epoch 2/10\n",
      "25280/25280 [==============================] - 1s 22us/step - loss: 0.6070 - acc: 0.8443 - val_loss: 0.5845 - val_acc: 0.8411\n",
      "Epoch 3/10\n",
      "25280/25280 [==============================] - 1s 22us/step - loss: 0.5636 - acc: 0.8443 - val_loss: 0.5469 - val_acc: 0.8411\n",
      "Epoch 4/10\n",
      "25280/25280 [==============================] - 1s 22us/step - loss: 0.5299 - acc: 0.8443 - val_loss: 0.5178 - val_acc: 0.8411\n",
      "Epoch 5/10\n",
      "25280/25280 [==============================] - 1s 22us/step - loss: 0.5039 - acc: 0.8443 - val_loss: 0.4956 - val_acc: 0.8411\n",
      "Epoch 6/10\n",
      "25280/25280 [==============================] - 1s 22us/step - loss: 0.4842 - acc: 0.8443 - val_loss: 0.4789 - val_acc: 0.8411\n",
      "Epoch 7/10\n",
      "25280/25280 [==============================] - 1s 22us/step - loss: 0.4693 - acc: 0.8443 - val_loss: 0.4665 - val_acc: 0.8411\n",
      "Epoch 8/10\n",
      "25280/25280 [==============================] - 1s 22us/step - loss: 0.4583 - acc: 0.8443 - val_loss: 0.4574 - val_acc: 0.8411\n",
      "Epoch 9/10\n",
      "25280/25280 [==============================] - 1s 22us/step - loss: 0.4503 - acc: 0.8443 - val_loss: 0.4509 - val_acc: 0.8411\n",
      "Epoch 10/10\n",
      "25280/25280 [==============================] - 1s 22us/step - loss: 0.4444 - acc: 0.8443 - val_loss: 0.4462 - val_acc: 0.8411\n"
     ]
    }
   ],
   "source": [
    "history = model.fit(X_train, y_train, batch_size=128, epochs=10, verbose=1, validation_split=0.2)"
   ]
  },
  {
   "cell_type": "markdown",
   "metadata": {},
   "source": [
    "## 5.1) Check Results"
   ]
  },
  {
   "cell_type": "code",
   "execution_count": 48,
   "metadata": {
    "scrolled": true
   },
   "outputs": [
    {
     "name": "stdout",
     "output_type": "stream",
     "text": [
      "7900/7900 [==============================] - 0s 29us/step\n"
     ]
    }
   ],
   "source": [
    "score = model.evaluate(X_test, y_test, verbose=1)"
   ]
  },
  {
   "cell_type": "code",
   "execution_count": 49,
   "metadata": {
    "scrolled": true
   },
   "outputs": [
    {
     "name": "stdout",
     "output_type": "stream",
     "text": [
      "Test Score: 0.4477382220648512\n",
      "Test Accuracy: 0.8399999737739563\n"
     ]
    }
   ],
   "source": [
    "print(\"Test Score:\", score[0])\n",
    "print(\"Test Accuracy:\", score[1])"
   ]
  },
  {
   "cell_type": "code",
   "execution_count": 50,
   "metadata": {},
   "outputs": [
    {
     "data": {
      "image/png": "[encoded data removed]",
      "text/plain": [
       "<Figure size 432x288 with 1 Axes>"
      ]
     },
     "metadata": {
      "needs_background": "light"
     },
     "output_type": "display_data"
    }
   ],
   "source": [
    "plt.plot(history.history['loss'])\n",
    "plt.plot(history.history['val_loss'])\n",
    "plt.title('model loss')\n",
    "plt.ylabel('loss')\n",
    "plt.xlabel('epoch')\n",
    "plt.legend(['train','test'], loc='upper left')\n",
    "plt.show()"
   ]
  },
  {
   "cell_type": "markdown",
   "metadata": {},
   "source": [
    "The performance of our simple neural network is not bad. It's fitting quite good - No Over & or Underfitting.  We reached a Test Score of 0.447738 and a Test Accuracy of 0.839999. Not bad but still not as good as our model should be. Also our model is only able to determine if the Item is a Game/Puzzle or not. "
   ]
  },
  {
   "cell_type": "markdown",
   "metadata": {},
   "source": [
    "# 6.) Recurrent Neural Network (LSTM) - Game/Puzzle\n",
    "<a id='6.Section'></a>"
   ]
  },
  {
   "cell_type": "markdown",
   "metadata": {},
   "source": [
    "After completing our first simple neural network, we came up with the idea to use a Long-Term-Short-Memory Neural Network, because it is a commonly used for pattern recognition. "
   ]
  },
  {
   "cell_type": "code",
   "execution_count": 52,
   "metadata": {},
   "outputs": [],
   "source": [
    "model = Sequential()\n",
    "embedding_layer = Embedding(vocab_size, 100, weights=[embedding_matrix], input_length=maxlen , trainable=False)\n",
    "model.add(embedding_layer)\n",
    "model.add(LSTM(128))\n",
    "\n",
    "model.add(Dense(1, activation='sigmoid'))\n",
    "model.compile(optimizer='adam', loss='binary_crossentropy', metrics=['acc'])"
   ]
  },
  {
   "cell_type": "code",
   "execution_count": 53,
   "metadata": {
    "scrolled": true
   },
   "outputs": [
    {
     "name": "stdout",
     "output_type": "stream",
     "text": [
      "Model: \"sequential_2\"\n",
      "_________________________________________________________________\n",
      "Layer (type)                 Output Shape              Param #   \n",
      "=================================================================\n",
      "embedding_2 (Embedding)      (None, 100, 100)          3259900   \n",
      "_________________________________________________________________\n",
      "lstm_1 (LSTM)                (None, 128)               117248    \n",
      "_________________________________________________________________\n",
      "dense_2 (Dense)              (None, 1)                 129       \n",
      "=================================================================\n",
      "Total params: 3,377,277\n",
      "Trainable params: 117,377\n",
      "Non-trainable params: 3,259,900\n",
      "_________________________________________________________________\n",
      "None\n"
     ]
    }
   ],
   "source": [
    "print(model.summary())"
   ]
  },
  {
   "cell_type": "code",
   "execution_count": 54,
   "metadata": {},
   "outputs": [
    {
     "name": "stdout",
     "output_type": "stream",
     "text": [
      "Train on 25280 samples, validate on 6320 samples\n",
      "Epoch 1/6\n",
      "25280/25280 [==============================] - 74s 3ms/step - loss: 0.4445 - acc: 0.8443 - val_loss: 0.4382 - val_acc: 0.8411\n",
      "Epoch 2/6\n",
      "25280/25280 [==============================] - 90s 4ms/step - loss: 0.4339 - acc: 0.8443 - val_loss: 0.4423 - val_acc: 0.8411\n",
      "Epoch 3/6\n",
      "25280/25280 [==============================] - 88s 3ms/step - loss: 0.4334 - acc: 0.8443 - val_loss: 0.4378 - val_acc: 0.8411\n",
      "Epoch 4/6\n",
      "25280/25280 [==============================] - 88s 3ms/step - loss: 0.4331 - acc: 0.8443 - val_loss: 0.4389 - val_acc: 0.8411\n",
      "Epoch 5/6\n",
      "25280/25280 [==============================] - 88s 3ms/step - loss: 0.4330 - acc: 0.8443 - val_loss: 0.4380 - val_acc: 0.8411\n",
      "Epoch 6/6\n",
      "25280/25280 [==============================] - 88s 3ms/step - loss: 0.4330 - acc: 0.8443 - val_loss: 0.4379 - val_acc: 0.8411\n"
     ]
    }
   ],
   "source": [
    "history = model.fit(X_train, y_train, batch_size=128, epochs=6, verbose=1, validation_split=0.2)"
   ]
  },
  {
   "cell_type": "markdown",
   "metadata": {},
   "source": [
    "## 6.1.) Check Results"
   ]
  },
  {
   "cell_type": "code",
   "execution_count": 55,
   "metadata": {},
   "outputs": [
    {
     "name": "stdout",
     "output_type": "stream",
     "text": [
      "7900/7900 [==============================] - 7s 852us/step\n"
     ]
    }
   ],
   "source": [
    "score = model.evaluate(X_test, y_test, verbose=1)"
   ]
  },
  {
   "cell_type": "code",
   "execution_count": 56,
   "metadata": {},
   "outputs": [
    {
     "name": "stdout",
     "output_type": "stream",
     "text": [
      "Test Score: 0.4397382724285126\n",
      "Test Accuracy: 0.8399999737739563\n"
     ]
    }
   ],
   "source": [
    "print(\"Test Score:\", score[0])\n",
    "print(\"Test Accuracy:\", score[1])"
   ]
  },
  {
   "cell_type": "code",
   "execution_count": 57,
   "metadata": {},
   "outputs": [
    {
     "data": {
      "image/png": "[encoded data removed]",
      "text/plain": [
       "<Figure size 432x288 with 1 Axes>"
      ]
     },
     "metadata": {
      "needs_background": "light"
     },
     "output_type": "display_data"
    }
   ],
   "source": [
    "plt.plot(history.history['loss'])\n",
    "plt.plot(history.history['val_loss'])\n",
    "plt.title('model loss')\n",
    "plt.ylabel('loss')\n",
    "plt.xlabel('epoch')\n",
    "plt.legend(['train','test'], loc='upper left')\n",
    "plt.show()"
   ]
  },
  {
   "cell_type": "markdown",
   "metadata": {},
   "source": [
    "After double checking our test-train-split we are still not sure why the Test Accuracy of the Simple Neural Network and of the Recurrent Neural Network are the same. But when looking at the plot we can clearly see that our model is underfitting. The reasons for this could either be to little amount of epochs or to less capacity. This could be improved by increasing the number of memory cells of the hidden layers or the amount of hidden layers itself. \n",
    "\n",
    "For checking if the Item is a Game/Puzzle we are sticking to our LSTM."
   ]
  },
  {
   "cell_type": "markdown",
   "metadata": {},
   "source": [
    "# 7.) Recurrent Neural Network - Categorical - Prediction\n",
    "<a id='7.Section'></a>"
   ]
  },
  {
   "cell_type": "code",
   "execution_count": 58,
   "metadata": {},
   "outputs": [
    {
     "name": "stdout",
     "output_type": "stream",
     "text": [
      "jamara rc audi lms silber\n"
     ]
    }
   ],
   "source": [
    "instance = X[57]\n",
    "print(instance)"
   ]
  },
  {
   "cell_type": "code",
   "execution_count": 59,
   "metadata": {},
   "outputs": [
    {
     "data": {
      "text/plain": [
       "array([[0.1643179]], dtype=float32)"
      ]
     },
     "execution_count": 59,
     "metadata": {},
     "output_type": "execute_result"
    }
   ],
   "source": [
    "instance = tokenizer.texts_to_sequences(instance)\n",
    "\n",
    "flat_list = []\n",
    "for sublist in instance:\n",
    "    for item in sublist:\n",
    "        flat_list.append(item)\n",
    "\n",
    "flat_list = [flat_list]\n",
    "\n",
    "instance = pad_sequences(flat_list, padding='post', maxlen=maxlen)\n",
    "\n",
    "model.predict(instance)"
   ]
  },
  {
   "cell_type": "markdown",
   "metadata": {},
   "source": [
    "## 7.1.) Check Results"
   ]
  },
  {
   "cell_type": "markdown",
   "metadata": {},
   "source": [
    "As an result our model predicted 0,1649089. This means that our sigmoid functions predicts a floating value between 0 and 1. Therefore in our case the model predicted the above mentiond value. So when we have a look out our instace (Jamara RC Audi LMS silber) and search for it in our data we saw that it is categorized not as a Game/Puzzle. Our model also predicted it not to be a Game/Puzzle. \n",
    "\n",
    "So we can say that: \n",
    "\n",
    "under 0.5 = No Game/Puzzle </p>\n",
    "above 0.5 = Game/Puzzle"
   ]
  },
  {
   "cell_type": "markdown",
   "metadata": {},
   "source": [
    "# 8.) Recurrent Neural Network (LSTM) - All Categories\n",
    "<a id='8.Section'></a>"
   ]
  },
  {
   "cell_type": "markdown",
   "metadata": {},
   "source": [
    "For Workshop 3 we planned to improve our LSTM and as mentioned earlier as we were not able to determine our test-train split error, we tried a new approach for the new recurrent model"
   ]
  },
  {
   "cell_type": "markdown",
   "metadata": {},
   "source": [
    "## 8.1.) Tokenizer"
   ]
  },
  {
   "cell_type": "code",
   "execution_count": 62,
   "metadata": {},
   "outputs": [],
   "source": [
    "MAX_NB_WORDS = 50000\n",
    "MAX_SEQUENCE_LENGTH = 250\n",
    "EMBEDDING_DIM = 100\n",
    "tokenizer = Tokenizer(num_words=MAX_NB_WORDS, filters='!\"#$%&()*+,-./:;<=>?@[\\]^_`{|}~', lower=True)\n",
    "tokenizer.fit_on_texts(data['Item_Name'].values)\n",
    "word_index = tokenizer.word_index"
   ]
  },
  {
   "cell_type": "markdown",
   "metadata": {},
   "source": [
    "### 8.1.2.) Check for amount of tokens"
   ]
  },
  {
   "cell_type": "code",
   "execution_count": 63,
   "metadata": {},
   "outputs": [
    {
     "name": "stdout",
     "output_type": "stream",
     "text": [
      "Found 69748 unique tokens.\n"
     ]
    }
   ],
   "source": [
    "print('Found %s unique tokens.' % len(word_index))"
   ]
  },
  {
   "cell_type": "markdown",
   "metadata": {},
   "source": [
    "## 8.2.) Test - Train - Split"
   ]
  },
  {
   "cell_type": "code",
   "execution_count": 66,
   "metadata": {},
   "outputs": [],
   "source": [
    "X_train, X_test, Y_train, Y_test = train_test_split(X,Y, test_size = 0.10, random_state = 42)"
   ]
  },
  {
   "cell_type": "markdown",
   "metadata": {},
   "source": [
    "### 8.2.2.) Shaping"
   ]
  },
  {
   "cell_type": "markdown",
   "metadata": {},
   "source": [
    "Each tensor object is defined with a unique label (name), a dimension (shape) and a data type (dtype)."
   ]
  },
  {
   "cell_type": "code",
   "execution_count": 67,
   "metadata": {},
   "outputs": [
    {
     "name": "stdout",
     "output_type": "stream",
     "text": [
      "(35550, 250) (35550, 17)\n",
      "(3950, 250) (3950, 17)\n",
      "Label Tensor Shape: (39500, 17)\n",
      "Data Tensor Shape: (39500, 250)\n"
     ]
    }
   ],
   "source": [
    "X = tokenizer.texts_to_sequences(data['Item_Name'].values)\n",
    "X = pad_sequences(X, maxlen=MAX_SEQUENCE_LENGTH)\n",
    "\n",
    "Y = pd.get_dummies(data['Category']).values\n",
    "\n",
    "print(X_train.shape,Y_train.shape)\n",
    "print(X_test.shape,Y_test.shape)\n",
    "print('Label Tensor Shape:', Y.shape)\n",
    "print('Data Tensor Shape:', X.shape)\n"
   ]
  },
  {
   "cell_type": "markdown",
   "metadata": {},
   "source": [
    "## 8.3.) Model"
   ]
  },
  {
   "cell_type": "code",
   "execution_count": 68,
   "metadata": {},
   "outputs": [
    {
     "name": "stdout",
     "output_type": "stream",
     "text": [
      "Model: \"sequential_3\"\n",
      "_________________________________________________________________\n",
      "Layer (type)                 Output Shape              Param #   \n",
      "=================================================================\n",
      "embedding_3 (Embedding)      (None, 250, 100)          5000000   \n",
      "_________________________________________________________________\n",
      "spatial_dropout1d_1 (Spatial (None, 250, 100)          0         \n",
      "_________________________________________________________________\n",
      "lstm_2 (LSTM)                (None, 100)               80400     \n",
      "_________________________________________________________________\n",
      "dense_3 (Dense)              (None, 17)                1717      \n",
      "=================================================================\n",
      "Total params: 5,082,117\n",
      "Trainable params: 5,082,117\n",
      "Non-trainable params: 0\n",
      "_________________________________________________________________\n",
      "None\n"
     ]
    }
   ],
   "source": [
    "model = Sequential()\n",
    "model.add(Embedding(MAX_NB_WORDS, EMBEDDING_DIM, input_length=X.shape[1]))\n",
    "model.add(SpatialDropout1D(0.2))\n",
    "model.add(LSTM(100, dropout=0.2, recurrent_dropout=0.2))\n",
    "model.add(Dense(17, activation='softmax'))\n",
    "model.compile(loss='categorical_crossentropy', optimizer='adam', metrics=['accuracy'])\n",
    "print(model.summary())"
   ]
  },
  {
   "cell_type": "code",
   "execution_count": 69,
   "metadata": {},
   "outputs": [
    {
     "name": "stderr",
     "output_type": "stream",
     "text": [
      "C:\\Users\\JohnnyRage\\miniconda3\\envs\\tensorflow\\lib\\site-packages\\tensorflow_core\\python\\framework\\indexed_slices.py:424: UserWarning: Converting sparse IndexedSlices to a dense Tensor of unknown shape. This may consume a large amount of memory.\n",
      "  \"Converting sparse IndexedSlices to a dense Tensor of unknown shape. \"\n"
     ]
    },
    {
     "name": "stdout",
     "output_type": "stream",
     "text": [
      "Train on 31995 samples, validate on 3555 samples\n",
      "Epoch 1/5\n",
      "31995/31995 [==============================] - 540s 17ms/step - loss: 1.5352 - accuracy: 0.5150 - val_loss: 0.8387 - val_accuracy: 0.7595\n",
      "Epoch 2/5\n",
      "31995/31995 [==============================] - 542s 17ms/step - loss: 0.6194 - accuracy: 0.8169 - val_loss: 0.6985 - val_accuracy: 0.7873\n",
      "Epoch 3/5\n",
      "31995/31995 [==============================] - 547s 17ms/step - loss: 0.3570 - accuracy: 0.8946 - val_loss: 0.6890 - val_accuracy: 0.8048\n",
      "Epoch 4/5\n",
      "31995/31995 [==============================] - 542s 17ms/step - loss: 0.2205 - accuracy: 0.9349 - val_loss: 0.7423 - val_accuracy: 0.8031\n",
      "Epoch 5/5\n",
      "31995/31995 [==============================] - 539s 17ms/step - loss: 0.1514 - accuracy: 0.9555 - val_loss: 0.8121 - val_accuracy: 0.8051\n"
     ]
    }
   ],
   "source": [
    "epochs = 5\n",
    "batch_size = 64\n",
    "history = model.fit(X_train, Y_train, epochs=epochs, batch_size=batch_size,validation_split=0.1,callbacks=[EarlyStopping(monitor='val_loss', patience=3, min_delta=0.0001)])"
   ]
  },
  {
   "cell_type": "markdown",
   "metadata": {},
   "source": [
    "## 8.4.) Check Results"
   ]
  },
  {
   "cell_type": "code",
   "execution_count": 70,
   "metadata": {
    "scrolled": true
   },
   "outputs": [
    {
     "name": "stdout",
     "output_type": "stream",
     "text": [
      "3950/3950 [==============================] - 11s 3ms/step\n",
      "Test set\n",
      "  Loss: 0.864\n",
      "  Accuracy: 0.790\n"
     ]
    }
   ],
   "source": [
    "accr = model.evaluate(X_test,Y_test)  \n",
    "print('Test set\\n  Loss: {:0.3f}\\n  Accuracy: {:0.3f}'.format(accr[0],accr[1]))"
   ]
  },
  {
   "cell_type": "code",
   "execution_count": 78,
   "metadata": {},
   "outputs": [
    {
     "data": {
      "image/png": "[encoded data removed]",
      "text/plain": [
       "<Figure size 432x288 with 1 Axes>"
      ]
     },
     "metadata": {
      "needs_background": "light"
     },
     "output_type": "display_data"
    }
   ],
   "source": [
    "plt.plot(history.history['loss'])\n",
    "plt.plot(history.history['val_loss'])\n",
    "plt.title('model loss')\n",
    "plt.ylabel('loss')\n",
    "plt.xlabel('epoch')\n",
    "plt.legend(['train','test'], loc='upper left')\n",
    "plt.show()"
   ]
  },
  {
   "cell_type": "markdown",
   "metadata": {},
   "source": [
    "After about 40 minutes our extended LSTM finished working and the results were quite interesting. We received a Loss of 0.864 and an Accuracy of 0.790. Compared to the other models, the extended LSTM did perform not as good as the others. BUT! We only did 5 epochs - just as proof of concept. For personal interests I tried increasing the number of epochs to 100 and after about 17 hours the model finally finished and we increased our Accuracy to about 0.85 and the loss dropped down to 0.43 Still not the point we were aiming at but we have been coming closer.  "
   ]
  },
  {
   "cell_type": "markdown",
   "metadata": {},
   "source": [
    "# 9.) Recurrent Neural Network - All Categories - Prediction\n",
    "<a id='9.Section'></a>"
   ]
  },
  {
   "cell_type": "code",
   "execution_count": 77,
   "metadata": {
    "scrolled": true
   },
   "outputs": [
    {
     "name": "stdout",
     "output_type": "stream",
     "text": [
      "[[4.0181512e-06 2.1531482e-04 4.8191837e-06 1.2685143e-05 1.6272961e-06\n",
      "  9.8889428e-01 3.8181061e-06 7.6126285e-06 1.2620135e-04 7.6002893e-06\n",
      "  7.1135124e-05 1.7569546e-04 1.0058013e-04 8.9274254e-03 1.4115743e-03\n",
      "  3.3218057e-06 3.2386255e-05]] 0300 Games & Puzzle\n"
     ]
    }
   ],
   "source": [
    "new_item = [\"Ravensburger Machine Learning Puzzle Lukas Huber Edition\"]\n",
    "seq = tokenizer.texts_to_sequences(new_item)\n",
    "padded = pad_sequences(seq, maxlen=MAX_SEQUENCE_LENGTH)\n",
    "pred = model.predict(padded)\n",
    "labels =  ['0100 Dolls', '0200 Arts & Crafts', '0201 Clay / Dough', '0202 Sculpture Kits', '0206 Craft Kits', '0300 Games & Puzzle', '0400 Vehicles', '0402 Non powered Cars', '0600 Infants / Preschool', '0625 PS Role Playing', '0700 Plush', '0800 Action Figures & Accessiores', '0900 Outdoor & Sports', '1300 All Other', '1800 Learning & Exploration', '1802 Educational Toys', '1900 Building Sets']\n",
    "print(pred, labels[np.argmax(pred)])"
   ]
  },
  {
   "cell_type": "markdown",
   "metadata": {},
   "source": [
    "***Result:*** Within the new_item column you can fill in any fantasy product you wish. The model tries to predict the belonging category. We tried with differnt categories and different item names and in all cases our model predicted the right category. "
   ]
  },
  {
   "cell_type": "markdown",
   "metadata": {},
   "source": [
    "# 10.) Outlook / Project Conclusion"
   ]
  },
  {
   "cell_type": "markdown",
   "metadata": {},
   "source": [
    "When rethinking our project we can definitely say that it was successful. We received the data from Amazon, checked and cleaned it in the first phase to prepare it for our models. Second phase was to get to know with NLP (Natural Language Processing). Third phase was to implement two small models to check the learned concepts and to receive some first results. The last phase was all about improving our existing  models and trying to get rid of errors. Additionally we were able to fulfill the project goal, which was to categorize every new item in the toy sector for Amazon. \n",
    "\n",
    "The next step (outside the current project) would be to improve the model (more epochs, hidden layers etc). We will reach out to colleagues of AWS to implement the current LSTM's to check if the performance would increase more if the number of epochs (<100) increase drastically. \n",
    "\n",
    "***Findings of the Project:*** </p>\n",
    "\n",
    "**Pros:**\n",
    "+ Data Gathering was good\n",
    "+ Get to know with NLP was well documented (https://www.analyticsvidhya.com/blog/2019/04/predicting-movie-genres-nlp-multi-label-classification/)\n",
    "+ Communication within the team (MS-Teams & Github) </p>\n",
    "\n",
    "**Cons:**\n",
    "- Time Management (Project took more time than expected) \n",
    "- Hardware Limitations (even with good Hardware) more than 5 epochs would have taken an enormous amount of time\n",
    "- Stopwords Functionality was not 100% accurate (English works 100% fine but German stopwords are not completely filtered) "
   ]
  }
 ],
 "metadata": {
  "kernelspec": {
   "display_name": "Python 3.7 (tensorflow)",
   "language": "python",
   "name": "tensorflow"
  },
  "language_info": {
   "codemirror_mode": {
    "name": "ipython",
    "version": 3
   },
   "file_extension": ".py",
   "mimetype": "text/x-python",
   "name": "python",
   "nbconvert_exporter": "python",
   "pygments_lexer": "ipython3",
   "version": "3.7.7"
  }
 },
 "nbformat": 4,
 "nbformat_minor": 4
}
