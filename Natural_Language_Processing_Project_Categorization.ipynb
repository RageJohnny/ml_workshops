{
 "cells": [
  {
   "cell_type": "markdown",
   "metadata": {},
   "source": [
    "# Categorization of Amazon Toys Products\n",
    "\n",
    "## Using Natural Language Processing (NLP)"
   ]
  },
  {
   "cell_type": "markdown",
   "metadata": {},
   "source": [
    "#### Data Loading"
   ]
  },
  {
   "cell_type": "code",
   "execution_count": 51,
   "metadata": {},
   "outputs": [],
   "source": [
    "import pandas as pd\n",
    "import matplotlib.pyplot as plt \n",
    "import seaborn as sns\n",
    "import re\n",
    "import json\n",
    "import nltk\n",
    "from sklearn.feature_extraction.text import TfidfVectorizer\n",
    "from sklearn.model_selection import train_test_split"
   ]
  },
  {
   "cell_type": "code",
   "execution_count": 2,
   "metadata": {},
   "outputs": [],
   "source": [
    "data = pd.read_csv(\"data/rawdata1.csv\", encoding='latin-1')"
   ]
  },
  {
   "cell_type": "markdown",
   "metadata": {},
   "source": [
    "#### Data Understanding and Preprocessing"
   ]
  },
  {
   "cell_type": "code",
   "execution_count": 3,
   "metadata": {},
   "outputs": [
    {
     "data": {
      "text/html": [
       "<div>\n",
       "<style scoped>\n",
       "    .dataframe tbody tr th:only-of-type {\n",
       "        vertical-align: middle;\n",
       "    }\n",
       "\n",
       "    .dataframe tbody tr th {\n",
       "        vertical-align: top;\n",
       "    }\n",
       "\n",
       "    .dataframe thead th {\n",
       "        text-align: right;\n",
       "    }\n",
       "</style>\n",
       "<table border=\"1\" class=\"dataframe\">\n",
       "  <thead>\n",
       "    <tr style=\"text-align: right;\">\n",
       "      <th></th>\n",
       "      <th>Identifier</th>\n",
       "      <th>Item_Name</th>\n",
       "      <th>Product_Description</th>\n",
       "      <th>Brand</th>\n",
       "      <th>Manufacturer</th>\n",
       "      <th>Category</th>\n",
       "      <th>Subcategory</th>\n",
       "    </tr>\n",
       "  </thead>\n",
       "  <tbody>\n",
       "    <tr>\n",
       "      <th>0</th>\n",
       "      <td>B019YGSAPW</td>\n",
       "      <td>Ravensburger Spiele 23409 - Schwarzer Peter Mi...</td>\n",
       "      <td>&lt;h5&gt;Ravensburger Spiele 23409 - Schwarzer Pete...</td>\n",
       "      <td>Ravensburger Spiele</td>\n",
       "      <td>Ravensburger Spiele</td>\n",
       "      <td>0300 Games &amp; Puzzles</td>\n",
       "      <td>0305 Children's Games</td>\n",
       "    </tr>\n",
       "    <tr>\n",
       "      <th>1</th>\n",
       "      <td>B000QGRCN6</td>\n",
       "      <td>Henrys A01002-S01 - Yo-Yo Ersatzschnüre 6 Stüc...</td>\n",
       "      <td>Yo-Yo</td>\n",
       "      <td>Henrys</td>\n",
       "      <td>Henrys</td>\n",
       "      <td>0900 Outdoor &amp; Sports Toys</td>\n",
       "      <td>0911 Playground Equipment</td>\n",
       "    </tr>\n",
       "    <tr>\n",
       "      <th>2</th>\n",
       "      <td>B00KB45ULE</td>\n",
       "      <td>London Teddy Bears 4X-CLQL-QFJN Sorry, es TUT ...</td>\n",
       "      <td>Liebenswürdig, traditionelle braune teddybär i...</td>\n",
       "      <td>London Teddy Bears</td>\n",
       "      <td>London Teddy Bears</td>\n",
       "      <td>0700 Plush</td>\n",
       "      <td>0710 Traditional Plush</td>\n",
       "    </tr>\n",
       "    <tr>\n",
       "      <th>3</th>\n",
       "      <td>B07NDXZ8ZH</td>\n",
       "      <td>KiddyMoon 90X30cm/300 Bälle ? 7Cm Bällebad Bab...</td>\n",
       "      <td>NaN</td>\n",
       "      <td>KiddyMoon</td>\n",
       "      <td>KiddyMoon</td>\n",
       "      <td>0900 Outdoor &amp; Sports Toys</td>\n",
       "      <td>0911 Playground Equipment</td>\n",
       "    </tr>\n",
       "    <tr>\n",
       "      <th>4</th>\n",
       "      <td>B079QGYCS7</td>\n",
       "      <td>Eichhorn 100003408 - Musik Set enthält Trommel...</td>\n",
       "      <td>Musik Set, Eigenschaften: Maraca-Ei, mit Tromm...</td>\n",
       "      <td>Eichhorn</td>\n",
       "      <td>Simba-Dickie</td>\n",
       "      <td>1300 All Other</td>\n",
       "      <td>1305 Miscellaneous Toys</td>\n",
       "    </tr>\n",
       "  </tbody>\n",
       "</table>\n",
       "</div>"
      ],
      "text/plain": [
       "   Identifier                                          Item_Name  \\\n",
       "0  B019YGSAPW  Ravensburger Spiele 23409 - Schwarzer Peter Mi...   \n",
       "1  B000QGRCN6  Henrys A01002-S01 - Yo-Yo Ersatzschnüre 6 Stüc...   \n",
       "2  B00KB45ULE  London Teddy Bears 4X-CLQL-QFJN Sorry, es TUT ...   \n",
       "3  B07NDXZ8ZH  KiddyMoon 90X30cm/300 Bälle ? 7Cm Bällebad Bab...   \n",
       "4  B079QGYCS7  Eichhorn 100003408 - Musik Set enthält Trommel...   \n",
       "\n",
       "                                 Product_Description                Brand  \\\n",
       "0  <h5>Ravensburger Spiele 23409 - Schwarzer Pete...  Ravensburger Spiele   \n",
       "1                                              Yo-Yo               Henrys   \n",
       "2  Liebenswürdig, traditionelle braune teddybär i...   London Teddy Bears   \n",
       "3                                                NaN            KiddyMoon   \n",
       "4  Musik Set, Eigenschaften: Maraca-Ei, mit Tromm...             Eichhorn   \n",
       "\n",
       "          Manufacturer                    Category                Subcategory  \n",
       "0  Ravensburger Spiele        0300 Games & Puzzles      0305 Children's Games  \n",
       "1               Henrys  0900 Outdoor & Sports Toys  0911 Playground Equipment  \n",
       "2   London Teddy Bears                  0700 Plush     0710 Traditional Plush  \n",
       "3            KiddyMoon  0900 Outdoor & Sports Toys  0911 Playground Equipment  \n",
       "4         Simba-Dickie              1300 All Other    1305 Miscellaneous Toys  "
      ]
     },
     "execution_count": 3,
     "metadata": {},
     "output_type": "execute_result"
    }
   ],
   "source": [
    "data.head()"
   ]
  },
  {
   "cell_type": "code",
   "execution_count": 4,
   "metadata": {},
   "outputs": [
    {
     "data": {
      "text/plain": [
       "Identifier             False\n",
       "Item_Name              False\n",
       "Product_Description     True\n",
       "Brand                   True\n",
       "Manufacturer            True\n",
       "Category               False\n",
       "Subcategory             True\n",
       "dtype: bool"
      ]
     },
     "execution_count": 4,
     "metadata": {},
     "output_type": "execute_result"
    }
   ],
   "source": [
    "data.isna().any()"
   ]
  },
  {
   "cell_type": "code",
   "execution_count": 27,
   "metadata": {},
   "outputs": [
    {
     "data": {
      "image/png": "[encoded data removed]",
      "text/plain": [
       "<Figure size 432x288 with 1 Axes>"
      ]
     },
     "metadata": {},
     "output_type": "display_data"
    }
   ],
   "source": [
    "sns.set(style=\"darkgrid\")\n",
    "ax = sns.countplot(x=\"Category\", data=data, order=data.Category.value_counts().iloc[:5].index)"
   ]
  },
  {
   "cell_type": "code",
   "execution_count": 6,
   "metadata": {},
   "outputs": [],
   "source": [
    "# function for text cleaning \n",
    "def clean_text(text):\n",
    "    # remove backslash-apostrophe \n",
    "    text = re.sub(\"\\'\", \"\", text)\n",
    "    # remove whitespaces \n",
    "    text = ' '.join(text.split()) \n",
    "    # convert text to lowercase \n",
    "    text = text.lower() \n",
    "    \n",
    "    return text"
   ]
  },
  {
   "cell_type": "code",
   "execution_count": 7,
   "metadata": {},
   "outputs": [],
   "source": [
    "data['Clean_name'] = data['Item_Name'].apply(lambda x: clean_text(x))"
   ]
  },
  {
   "cell_type": "code",
   "execution_count": 8,
   "metadata": {},
   "outputs": [
    {
     "data": {
      "text/html": [
       "<div>\n",
       "<style scoped>\n",
       "    .dataframe tbody tr th:only-of-type {\n",
       "        vertical-align: middle;\n",
       "    }\n",
       "\n",
       "    .dataframe tbody tr th {\n",
       "        vertical-align: top;\n",
       "    }\n",
       "\n",
       "    .dataframe thead th {\n",
       "        text-align: right;\n",
       "    }\n",
       "</style>\n",
       "<table border=\"1\" class=\"dataframe\">\n",
       "  <thead>\n",
       "    <tr style=\"text-align: right;\">\n",
       "      <th></th>\n",
       "      <th>Identifier</th>\n",
       "      <th>Item_Name</th>\n",
       "      <th>Product_Description</th>\n",
       "      <th>Brand</th>\n",
       "      <th>Manufacturer</th>\n",
       "      <th>Category</th>\n",
       "      <th>Subcategory</th>\n",
       "      <th>Clean_name</th>\n",
       "    </tr>\n",
       "  </thead>\n",
       "  <tbody>\n",
       "    <tr>\n",
       "      <th>0</th>\n",
       "      <td>B019YGSAPW</td>\n",
       "      <td>Ravensburger Spiele 23409 - Schwarzer Peter Mi...</td>\n",
       "      <td>&lt;h5&gt;Ravensburger Spiele 23409 - Schwarzer Pete...</td>\n",
       "      <td>Ravensburger Spiele</td>\n",
       "      <td>Ravensburger Spiele</td>\n",
       "      <td>0300 Games &amp; Puzzles</td>\n",
       "      <td>0305 Children's Games</td>\n",
       "      <td>ravensburger spiele 23409 - schwarzer peter mi...</td>\n",
       "    </tr>\n",
       "    <tr>\n",
       "      <th>1</th>\n",
       "      <td>B000QGRCN6</td>\n",
       "      <td>Henrys A01002-S01 - Yo-Yo Ersatzschnüre 6 Stüc...</td>\n",
       "      <td>Yo-Yo</td>\n",
       "      <td>Henrys</td>\n",
       "      <td>Henrys</td>\n",
       "      <td>0900 Outdoor &amp; Sports Toys</td>\n",
       "      <td>0911 Playground Equipment</td>\n",
       "      <td>henrys a01002-s01 - yo-yo ersatzschnüre 6 stüc...</td>\n",
       "    </tr>\n",
       "    <tr>\n",
       "      <th>2</th>\n",
       "      <td>B00KB45ULE</td>\n",
       "      <td>London Teddy Bears 4X-CLQL-QFJN Sorry, es TUT ...</td>\n",
       "      <td>Liebenswürdig, traditionelle braune teddybär i...</td>\n",
       "      <td>London Teddy Bears</td>\n",
       "      <td>London Teddy Bears</td>\n",
       "      <td>0700 Plush</td>\n",
       "      <td>0710 Traditional Plush</td>\n",
       "      <td>london teddy bears 4x-clql-qfjn sorry, es tut ...</td>\n",
       "    </tr>\n",
       "    <tr>\n",
       "      <th>3</th>\n",
       "      <td>B07NDXZ8ZH</td>\n",
       "      <td>KiddyMoon 90X30cm/300 Bälle ? 7Cm Bällebad Bab...</td>\n",
       "      <td>NaN</td>\n",
       "      <td>KiddyMoon</td>\n",
       "      <td>KiddyMoon</td>\n",
       "      <td>0900 Outdoor &amp; Sports Toys</td>\n",
       "      <td>0911 Playground Equipment</td>\n",
       "      <td>kiddymoon 90x30cm/300 bälle ? 7cm bällebad bab...</td>\n",
       "    </tr>\n",
       "    <tr>\n",
       "      <th>4</th>\n",
       "      <td>B079QGYCS7</td>\n",
       "      <td>Eichhorn 100003408 - Musik Set enthält Trommel...</td>\n",
       "      <td>Musik Set, Eigenschaften: Maraca-Ei, mit Tromm...</td>\n",
       "      <td>Eichhorn</td>\n",
       "      <td>Simba-Dickie</td>\n",
       "      <td>1300 All Other</td>\n",
       "      <td>1305 Miscellaneous Toys</td>\n",
       "      <td>eichhorn 100003408 - musik set enthält trommel...</td>\n",
       "    </tr>\n",
       "  </tbody>\n",
       "</table>\n",
       "</div>"
      ],
      "text/plain": [
       "   Identifier                                          Item_Name  \\\n",
       "0  B019YGSAPW  Ravensburger Spiele 23409 - Schwarzer Peter Mi...   \n",
       "1  B000QGRCN6  Henrys A01002-S01 - Yo-Yo Ersatzschnüre 6 Stüc...   \n",
       "2  B00KB45ULE  London Teddy Bears 4X-CLQL-QFJN Sorry, es TUT ...   \n",
       "3  B07NDXZ8ZH  KiddyMoon 90X30cm/300 Bälle ? 7Cm Bällebad Bab...   \n",
       "4  B079QGYCS7  Eichhorn 100003408 - Musik Set enthält Trommel...   \n",
       "\n",
       "                                 Product_Description                Brand  \\\n",
       "0  <h5>Ravensburger Spiele 23409 - Schwarzer Pete...  Ravensburger Spiele   \n",
       "1                                              Yo-Yo               Henrys   \n",
       "2  Liebenswürdig, traditionelle braune teddybär i...   London Teddy Bears   \n",
       "3                                                NaN            KiddyMoon   \n",
       "4  Musik Set, Eigenschaften: Maraca-Ei, mit Tromm...             Eichhorn   \n",
       "\n",
       "          Manufacturer                    Category                Subcategory  \\\n",
       "0  Ravensburger Spiele        0300 Games & Puzzles      0305 Children's Games   \n",
       "1               Henrys  0900 Outdoor & Sports Toys  0911 Playground Equipment   \n",
       "2   London Teddy Bears                  0700 Plush     0710 Traditional Plush   \n",
       "3            KiddyMoon  0900 Outdoor & Sports Toys  0911 Playground Equipment   \n",
       "4         Simba-Dickie              1300 All Other    1305 Miscellaneous Toys   \n",
       "\n",
       "                                          Clean_name  \n",
       "0  ravensburger spiele 23409 - schwarzer peter mi...  \n",
       "1  henrys a01002-s01 - yo-yo ersatzschnüre 6 stüc...  \n",
       "2  london teddy bears 4x-clql-qfjn sorry, es tut ...  \n",
       "3  kiddymoon 90x30cm/300 bälle ? 7cm bällebad bab...  \n",
       "4  eichhorn 100003408 - musik set enthält trommel...  "
      ]
     },
     "execution_count": 8,
     "metadata": {},
     "output_type": "execute_result"
    }
   ],
   "source": [
    "data.head()"
   ]
  },
  {
   "cell_type": "code",
   "execution_count": 61,
   "metadata": {},
   "outputs": [
    {
     "name": "stdout",
     "output_type": "stream",
     "text": [
      "<class 'pandas.core.frame.DataFrame'>\n",
      "RangeIndex: 39500 entries, 0 to 39499\n",
      "Data columns (total 8 columns):\n",
      " #   Column               Non-Null Count  Dtype \n",
      "---  ------               --------------  ----- \n",
      " 0   Identifier           39500 non-null  object\n",
      " 1   Item_Name            39500 non-null  object\n",
      " 2   Product_Description  37401 non-null  object\n",
      " 3   Brand                38663 non-null  object\n",
      " 4   Manufacturer         39426 non-null  object\n",
      " 5   Category             39500 non-null  object\n",
      " 6   Subcategory          38992 non-null  object\n",
      " 7   Clean_name           39500 non-null  object\n",
      "dtypes: object(8)\n",
      "memory usage: 2.4+ MB\n"
     ]
    }
   ],
   "source": [
    "data.info()"
   ]
  },
  {
   "cell_type": "code",
   "execution_count": 58,
   "metadata": {},
   "outputs": [
    {
     "name": "stdout",
     "output_type": "stream",
     "text": [
      "['0300 Games & Puzzles', '0900 Outdoor & Sports Toys', '0700 Plush', '1300 All Other', '0600 Infants/Preschool', '0100 Dolls', '0400 Vehicles', '1800 Learning & Exploration', '0800 Action Figures & Accessories', '0200 Arts & Crafts', '1900 Building Sets', '0206 Craft Kits', '1802 Educational Toys', '0625 PS Role Playing', '0202 Sculpture Kits / Supplies', '0201 Clay / Dough', '0402 Non-Powered Cars']\n"
     ]
    }
   ],
   "source": [
    "categories = []\n",
    "categories = data.Category.unique().tolist()\n",
    "\n",
    "print(categories)"
   ]
  },
  {
   "cell_type": "code",
   "execution_count": 63,
   "metadata": {
    "scrolled": true
   },
   "outputs": [
    {
     "data": {
      "image/png": "[encoded data removed]",
      "text/plain": [
       "<Figure size 864x1080 with 1 Axes>"
      ]
     },
     "metadata": {},
     "output_type": "display_data"
    }
   ],
   "source": [
    "def freq_words(x, terms = 30): \n",
    "  all_words = ' '.join([text for text in x]) \n",
    "  all_words = all_words.split() \n",
    "  fdist = nltk.FreqDist(all_words) \n",
    "  words_df = pd.DataFrame({'word':list(fdist.keys()), 'count':list(fdist.values())}) \n",
    "  \n",
    "  # selecting top 20 most frequent words \n",
    "  d = words_df.nlargest(columns=\"count\", n = terms) \n",
    "  \n",
    "  # visualize words and frequencies\n",
    "  plt.figure(figsize=(12,15)) \n",
    "  ax = sns.barplot(data=d, x= \"count\", y = \"word\") \n",
    "  ax.set(ylabel = 'Word') \n",
    "  plt.show()\n",
    "  \n",
    "# print 100 most frequent words \n",
    "freq_words(data['Clean_name'], 20)"
   ]
  },
  {
   "cell_type": "code",
   "execution_count": 10,
   "metadata": {},
   "outputs": [
    {
     "name": "stderr",
     "output_type": "stream",
     "text": [
      "[nltk_data] Downloading package stopwords to\n",
      "[nltk_data]     C:\\Users\\weiherer\\AppData\\Roaming\\nltk_data...\n",
      "[nltk_data]   Package stopwords is already up-to-date!\n"
     ]
    },
    {
     "data": {
      "text/plain": [
       "True"
      ]
     },
     "execution_count": 10,
     "metadata": {},
     "output_type": "execute_result"
    }
   ],
   "source": [
    "nltk.download('stopwords')"
   ]
  },
  {
   "cell_type": "code",
   "execution_count": 11,
   "metadata": {},
   "outputs": [],
   "source": [
    "from nltk.corpus import stopwords\n",
    "stop_words = set(stopwords.words('german'))\n",
    "\n",
    "# function to remove stopwords\n",
    "def remove_stopwords(text):\n",
    "    no_stopword_text = [w for w in text.split() if not w in stop_words]\n",
    "    return ' '.join(no_stopword_text)\n",
    "\n",
    "data['Clean_name'] = data['Clean_name'].apply(lambda x: remove_stopwords(x))"
   ]
  },
  {
   "cell_type": "code",
   "execution_count": 13,
   "metadata": {},
   "outputs": [
    {
     "data": {
      "image/png": "[encoded data removed]",
      "text/plain": [
       "<Figure size 864x1080 with 1 Axes>"
      ]
     },
     "metadata": {},
     "output_type": "display_data"
    }
   ],
   "source": [
    "freq_words(data['Clean_name'], 20)"
   ]
  },
  {
   "cell_type": "markdown",
   "metadata": {},
   "source": [
    "#### Converting Text to Features"
   ]
  },
  {
   "cell_type": "code",
   "execution_count": 37,
   "metadata": {},
   "outputs": [],
   "source": [
    "from sklearn.preprocessing import MultiLabelBinarizer\n",
    "\n",
    "multilabel_binarizer = MultiLabelBinarizer()\n",
    "multilabel_binarizer.fit(data['Category'])\n",
    "\n",
    "# transform target variable\n",
    "y = multilabel_binarizer.transform(data['Category'])"
   ]
  },
  {
   "cell_type": "code",
   "execution_count": 38,
   "metadata": {},
   "outputs": [],
   "source": [
    "tfidf_vectorizer = TfidfVectorizer(max_df=0.8, max_features=10000)"
   ]
  },
  {
   "cell_type": "code",
   "execution_count": 39,
   "metadata": {},
   "outputs": [],
   "source": [
    "xtrain, xval, ytrain, yval = train_test_split(data['Clean_name'], y, test_size=0.2, random_state=9)"
   ]
  },
  {
   "cell_type": "code",
   "execution_count": 40,
   "metadata": {},
   "outputs": [],
   "source": [
    "# create TF-IDF features\n",
    "xtrain_tfidf = tfidf_vectorizer.fit_transform(xtrain)\n",
    "xval_tfidf = tfidf_vectorizer.transform(xval)"
   ]
  },
  {
   "cell_type": "code",
   "execution_count": 41,
   "metadata": {},
   "outputs": [],
   "source": [
    "from sklearn.linear_model import LogisticRegression\n",
    "\n",
    "# Binary Relevance\n",
    "from sklearn.multiclass import OneVsRestClassifier\n",
    "\n",
    "# Performance metric\n",
    "from sklearn.metrics import f1_score"
   ]
  },
  {
   "cell_type": "code",
   "execution_count": 42,
   "metadata": {},
   "outputs": [],
   "source": [
    "lr = LogisticRegression()\n",
    "clf = OneVsRestClassifier(lr)"
   ]
  },
  {
   "cell_type": "code",
   "execution_count": 43,
   "metadata": {},
   "outputs": [
    {
     "name": "stderr",
     "output_type": "stream",
     "text": [
      "c:\\python\\phyton37\\lib\\site-packages\\sklearn\\multiclass.py:75: UserWarning: Label 0 is present in all training examples.\n",
      "  str(classes[c]))\n",
      "c:\\python\\phyton37\\lib\\site-packages\\sklearn\\multiclass.py:75: UserWarning: Label 4 is present in all training examples.\n",
      "  str(classes[c]))\n",
      "c:\\python\\phyton37\\lib\\site-packages\\sklearn\\linear_model\\_logistic.py:940: ConvergenceWarning: lbfgs failed to converge (status=1):\n",
      "STOP: TOTAL NO. of ITERATIONS REACHED LIMIT.\n",
      "\n",
      "Increase the number of iterations (max_iter) or scale the data as shown in:\n",
      "    https://scikit-learn.org/stable/modules/preprocessing.html\n",
      "Please also refer to the documentation for alternative solver options:\n",
      "    https://scikit-learn.org/stable/modules/linear_model.html#logistic-regression\n",
      "  extra_warning_msg=_LOGISTIC_SOLVER_CONVERGENCE_MSG)\n"
     ]
    },
    {
     "data": {
      "text/plain": [
       "OneVsRestClassifier(estimator=LogisticRegression(C=1.0, class_weight=None,\n",
       "                                                 dual=False, fit_intercept=True,\n",
       "                                                 intercept_scaling=1,\n",
       "                                                 l1_ratio=None, max_iter=100,\n",
       "                                                 multi_class='auto',\n",
       "                                                 n_jobs=None, penalty='l2',\n",
       "                                                 random_state=None,\n",
       "                                                 solver='lbfgs', tol=0.0001,\n",
       "                                                 verbose=0, warm_start=False),\n",
       "                    n_jobs=None)"
      ]
     },
     "execution_count": 43,
     "metadata": {},
     "output_type": "execute_result"
    }
   ],
   "source": [
    "# fit model on train data\n",
    "clf.fit(xtrain_tfidf, ytrain)"
   ]
  },
  {
   "cell_type": "code",
   "execution_count": 44,
   "metadata": {},
   "outputs": [],
   "source": [
    "# make predictions for validation set\n",
    "y_pred = clf.predict(xval_tfidf)"
   ]
  },
  {
   "cell_type": "code",
   "execution_count": 60,
   "metadata": {},
   "outputs": [
    {
     "data": {
      "text/plain": [
       "(' ', '0', '1', '3', 'A', 'O', 'e', 'h', 'l', 'r', 't')"
      ]
     },
     "execution_count": 60,
     "metadata": {},
     "output_type": "execute_result"
    }
   ],
   "source": [
    "multilabel_binarizer.inverse_transform(y_pred)[2]"
   ]
  },
  {
   "cell_type": "code",
   "execution_count": null,
   "metadata": {},
   "outputs": [],
   "source": []
  }
 ],
 "metadata": {
  "kernelspec": {
   "display_name": "Python 3",
   "language": "python",
   "name": "python3"
  },
  "language_info": {
   "codemirror_mode": {
    "name": "ipython",
    "version": 3
   },
   "file_extension": ".py",
   "mimetype": "text/x-python",
   "name": "python",
   "nbconvert_exporter": "python",
   "pygments_lexer": "ipython3",
   "version": "3.7.4"
  }
 },
 "nbformat": 4,
 "nbformat_minor": 4
}
